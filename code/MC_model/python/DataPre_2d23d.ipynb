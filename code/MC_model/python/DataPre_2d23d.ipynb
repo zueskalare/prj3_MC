{
 "cells": [
  {
   "cell_type": "markdown",
   "id": "de91e9be-053e-4995-906e-1eda229e309f",
   "metadata": {},
   "source": [
    "# generate 3D model and save npy model\n",
    "- matrix size 256 * 256 * 256\n",
    "- model size 128*128\n"
   ]
  },
  {
   "cell_type": "code",
   "execution_count": 2,
   "id": "fe0de0ee-3e9a-41bb-8664-0b48bb0a2182",
   "metadata": {},
   "outputs": [
    {
     "name": "stdout",
     "output_type": "stream",
     "text": [
      "165\n"
     ]
    }
   ],
   "source": [
    "import src.agent as agent\n",
    "import numpy as np\n",
    "import matplotlib.pyplot as plt\n",
    "import pyacvd\n",
    "import pyvista as pv\n",
    "import numpy as np\n",
    "import multiprocessing as mp\n",
    "import os\n",
    "mgr = mp.Manager()\n",
    "jobList = mgr.list([])\n",
    "\n",
    "\n",
    "\n",
    "\n",
    "data_save_dir = '/scratch/jt35560/codespace/data/2D23D/spinodal_grayscale'\n",
    "os.system(f'mkdir -p {data_save_dir}')\n",
    "m = 10\n",
    "size = 256\n",
    "\n",
    "\n",
    "theta = np.linspace(0,1,6) \n",
    "le= len(theta) \n",
    "\n",
    "\n",
    "for i in range(le):\n",
    "        for j in range(le-i):\n",
    "            for k in range(le-i-j):\n",
    "                t_1 = theta[i]\n",
    "                t_2 = theta[j]\n",
    "                t_3 = theta[k]\n",
    "                if t_1 != 0 or t_2 !=0 or t_3 !=0:\n",
    "                    for m in [5,7,10]:\n",
    "                        jobList.append([t_1,t_2,t_3,m])\n",
    "\n",
    "\n",
    "def run():\n",
    "    while True:\n",
    "        if len(jobList) == 0:\n",
    "            break;\n",
    "        job = jobList.pop()\n",
    "        print(job)\n",
    "        t_1,t_2,t_3,m = job\n",
    "        x = np.arange(0,128,0.5)\n",
    "        y = np.arange(0,128,0.5)\n",
    "        z = np.arange(0,128,0.5)\n",
    "        xx,yy,zz = np.meshgrid(x,y,z)\n",
    "        xx = xx[...,None]\n",
    "        yy = yy[...,None]\n",
    "        zz = zz[...,None]\n",
    "        xyz = np.concatenate([xx,yy,zz],axis=-1)\n",
    "\n",
    "        spin = agent.Spinodal(a=1,b=1,c=1,t_1=t_1,t_2=t_2,t_3=t_3,l=200,beta=m*np.pi/size)\n",
    "        res = np.array([[[spin(x) for x in y] for y in z ] for z in xyz])\n",
    "        np.save(os.path.join(data_save_dir,f'{t_1:.2f}_{t_2:.2f}_{t_3:.2f}_{m}.npy'), res)\n",
    "\n",
    "\n",
    "# if __name__ == '__main__':\n",
    "    \n",
    "#     num_process = 63\n",
    "#     processes = []\n",
    "#     for i in range(num_process):\n",
    "#         p = mp.Process(target=run,args=())\n",
    "#         processes.append(p)\n",
    "#         p.start()\n",
    "\n",
    "#     for p in processes:\n",
    "#         p.join()\n",
    "        \n",
    "\n",
    "                \n",
    "print(len(jobList))\n",
    "\n",
    "\n"
   ]
  }
 ],
 "metadata": {
  "kernelspec": {
   "display_name": "Python 3 (ipykernel)",
   "language": "python",
   "name": "python3"
  },
  "language_info": {
   "codemirror_mode": {
    "name": "ipython",
    "version": 3
   },
   "file_extension": ".py",
   "mimetype": "text/x-python",
   "name": "python",
   "nbconvert_exporter": "python",
   "pygments_lexer": "ipython3",
   "version": "3.11.2"
  }
 },
 "nbformat": 4,
 "nbformat_minor": 5
}
