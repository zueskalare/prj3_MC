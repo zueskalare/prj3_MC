{
 "cells": [
  {
   "cell_type": "code",
   "execution_count": null,
   "metadata": {},
   "outputs": [],
   "source": [
    "import os\n",
    "def get_file_dir(b,i,j,k,p=10):\n",
    "    return(f'spinodal_model_dat_{b:0.1f}/Simulation/{i:0.2f}_{j:0.2f}_{k:0.2f}_{p:d}')\n",
    "\n",
    "keys = [[1.0,0.3,0.3,0.4],\n",
    "        [1.0,0.5,0.0,0.0],\n",
    "        [1.0,0.5,0.5,0.0],\n",
    "]\n",
    "for k in keys:\n",
    "    f = get_file_dir(*k)\n",
    "    f = '/scratch/jt35560/codebase/prj3/'+f\n",
    "    cont = '.x.comp.dump'\n",
    "    files = []\n",
    "    files.append(f)\n",
    "    files.append(f+cont)\n",
    "    files.append(f+cont.replace('x','y'))\n",
    "    files.append(f+cont.replace('x','z'))\n",
    "    \n",
    "    for fi in files:\n",
    "        # print(f'scp -vr jt35560@sapelo2.gacrc.uga.edu:{fi} .') # change to your username\n",
    "        print(fi)\n",
    "    \n",
    "    "
   ]
  },
  {
   "cell_type": "code",
   "execution_count": 2,
   "metadata": {},
   "outputs": [],
   "source": [
    "from ovito.io import import_file\n",
    "import numpy as np\n",
    "import vtk\n",
    "\n",
    "\n",
    "def compile_dat_dump(data_file,dump_file):\n",
    "    \n",
    "    vtk_head = f'''# vtk DataFile Version 1.0\n",
    "{dump_file.split('/')[-1].split('.c')[0]}\n",
    "ASCII\n",
    "\n",
    "DATASET UNSTRUCTURED_GRID\n",
    "''' \n",
    "\n",
    "    frame_index = int(data_file.split('/')[-1].split('.')[-2])\n",
    "    # print(frame_index)\n",
    "    pipline = import_file(dump_file)\n",
    "    frames = pipline.source.num_frames\n",
    "    fram = np.linspace(0,frames,26,dtype=int)\n",
    "    # print(fram)\n",
    "    dat_file = import_file(data_file)  \n",
    "    dat = dat_file.compute()\n",
    "    bonds = np.array(dat.particles.bonds.topology)\n",
    "    # print(list(dat.particles.keys()))\n",
    "    # return 0\n",
    "    from tqdm import tqdm\n",
    "    faces = []\n",
    "    for i,j in tqdm(bonds):\n",
    "        i_nei = np.unique(bonds[np.where(bonds == i)[0]].flatten())\n",
    "        i_nei = i_nei[i_nei != i]\n",
    "        j_nei = np.unique(bonds[np.where(bonds == j)[0]].flatten())\n",
    "        j_nei = j_nei[j_nei != j]\n",
    "        \n",
    "        ij_nei = np.intersect1d(i_nei,j_nei)\n",
    "        for k in ij_nei:\n",
    "            faces.append([i,j,k])\n",
    "            \n",
    "    faces = np.sort(np.array(faces),axis=-1)\n",
    "    faces = np.unique(faces,axis=0)\n",
    "    faces = faces # in data file the bond is using id instead the index in the list\n",
    "    \n",
    "    pos_dat = dat.particles.positions.array\n",
    "    dat_pdimage = dat.particles['Periodic Image'].array\n",
    "    cell = np.array(dat.cell)\n",
    "    # print(cell)\n",
    "    cell_size = np.array([cell[0,0],cell[1,1],cell[2,2]])\n",
    "    \n",
    "    pos_dat = pos_dat + dat_pdimage*cell_size\n",
    "    \n",
    "\n",
    "    time = fram[frame_index]\n",
    "    pip_dump = pipline.compute(time)\n",
    "    \n",
    "    # pos = pip_dump.particles.positions.array\n",
    "    pos = pos_dat\n",
    "    c_1 = pip_dump.particles['c_1[1]'].array\n",
    "    c_2 = pip_dump.particles['c_1[2]'].array\n",
    "    c_3 = pip_dump.particles['c_1[3]'].array\n",
    "    c_name = 'stress'\n",
    "    field = np.array([c_1,c_2,c_3]).T\n",
    "    # pd_image = pip_dump.particles['Periodic Image'].array\n",
    "    # cell = pip_dump.cell.array\n",
    "    # cell_size = np.array([cell[0,0],cell[1,1],cell[2,2]])\n",
    "    \n",
    "    \n",
    "    \n",
    "\n",
    "    points = vtk.vtkPoints()\n",
    "    for i,x in enumerate(pos):\n",
    "        points.InsertPoint(i, x)\n",
    "        \n",
    "        \n",
    "    ugrid = vtk.vtkUnstructuredGrid()\n",
    "    ugrid.SetPoints(points)\n",
    "    \n",
    "    ugrid.AllocateExact(len(faces),len(faces)*4)\n",
    "    for _f in faces:\n",
    "        ugrid.InsertNextCell(vtk.VTK_TRIANGLE, 3, _f)\n",
    "    \n",
    "    \n",
    "    vectors = vtk.vtkDoubleArray()\n",
    "    vectors.SetNumberOfComponents(3)\n",
    "    vectors.SetName(c_name)\n",
    "    for _s in field:\n",
    "        vectors.InsertNextTuple(_s)\n",
    "    \n",
    "    ugrid.GetPointData().SetVectors(vectors)\n",
    "    \n",
    "    # Write the polydata to a VTK file\n",
    "    f_name = data_file[:-4]+f'.{time}.vtk'\n",
    "    writer = vtk.vtkUnstructuredGridWriter()\n",
    "    writer.SetFileName(f_name)\n",
    "    writer.SetInputData(ugrid)\n",
    "    writer.Write()\n",
    "    \n",
    "    # # write stl\n",
    "    # f_name = dump_file.split('.c')[0]+f'.{time}.stl'\n",
    "    # with open(f_name,'w') as f:\n",
    "    #     f.write('solid\\n')\n",
    "    #     for _f in faces:\n",
    "    #         f.write(f'facet normal 0 0 0\\n')\n",
    "    #         f.write(f'outer loop\\n')\n",
    "    #         for i in _f:\n",
    "    #             f.write(f'vertex {pos[i][0]:0.2f} {pos[i][1]:0.2f} {pos[i][2]:0.2f}\\n')\n",
    "    #         f.write(f'endloop\\n')\n",
    "    #         f.write(f'endfacet\\n')\n",
    "    #     f.write('endsolid\\n')\n",
    "        \n",
    "            \n",
    "\n",
    "    "
   ]
  },
  {
   "cell_type": "code",
   "execution_count": 2,
   "metadata": {},
   "outputs": [
    {
     "name": "stdout",
     "output_type": "stream",
     "text": [
      "sim_dump/0.50_0.00_0.00_10/x.comp.load.12.dat\n",
      "sim_dump/0.50_0.00_0.00_10.x.comp.dump\n"
     ]
    },
    {
     "name": "stderr",
     "output_type": "stream",
     "text": [
      "100%|██████████| 58230/58230 [00:34<00:00, 1686.03it/s]\n"
     ]
    },
    {
     "name": "stdout",
     "output_type": "stream",
     "text": [
      "sim_dump/0.50_0.00_0.00_10/x.comp.load.6.dat\n",
      "sim_dump/0.50_0.00_0.00_10.x.comp.dump\n"
     ]
    },
    {
     "name": "stderr",
     "output_type": "stream",
     "text": [
      "100%|██████████| 58230/58230 [00:34<00:00, 1675.72it/s]\n"
     ]
    },
    {
     "name": "stdout",
     "output_type": "stream",
     "text": [
      "sim_dump/0.50_0.00_0.00_10/x.comp.load.7.dat\n",
      "sim_dump/0.50_0.00_0.00_10.x.comp.dump\n"
     ]
    },
    {
     "name": "stderr",
     "output_type": "stream",
     "text": [
      "100%|██████████| 58230/58230 [00:37<00:00, 1556.98it/s]\n"
     ]
    },
    {
     "name": "stdout",
     "output_type": "stream",
     "text": [
      "sim_dump/0.50_0.00_0.00_10/x.comp.load.13.dat\n",
      "sim_dump/0.50_0.00_0.00_10.x.comp.dump\n"
     ]
    },
    {
     "name": "stderr",
     "output_type": "stream",
     "text": [
      "100%|██████████| 58230/58230 [00:33<00:00, 1718.50it/s]\n"
     ]
    },
    {
     "name": "stdout",
     "output_type": "stream",
     "text": [
      "sim_dump/0.50_0.00_0.00_10/x.comp.load.11.dat\n",
      "sim_dump/0.50_0.00_0.00_10.x.comp.dump\n"
     ]
    },
    {
     "name": "stderr",
     "output_type": "stream",
     "text": [
      "100%|██████████| 58230/58230 [00:34<00:00, 1711.79it/s]\n"
     ]
    },
    {
     "name": "stdout",
     "output_type": "stream",
     "text": [
      "sim_dump/0.50_0.00_0.00_10/x.comp.load.5.dat\n",
      "sim_dump/0.50_0.00_0.00_10.x.comp.dump\n"
     ]
    },
    {
     "name": "stderr",
     "output_type": "stream",
     "text": [
      "100%|██████████| 58230/58230 [00:33<00:00, 1716.14it/s]\n"
     ]
    },
    {
     "name": "stdout",
     "output_type": "stream",
     "text": [
      "sim_dump/0.50_0.00_0.00_10/x.comp.load.4.dat\n",
      "sim_dump/0.50_0.00_0.00_10.x.comp.dump\n"
     ]
    },
    {
     "name": "stderr",
     "output_type": "stream",
     "text": [
      "100%|██████████| 58230/58230 [00:34<00:00, 1678.84it/s]\n"
     ]
    },
    {
     "name": "stdout",
     "output_type": "stream",
     "text": [
      "sim_dump/0.50_0.00_0.00_10/x.comp.load.10.dat\n",
      "sim_dump/0.50_0.00_0.00_10.x.comp.dump\n"
     ]
    },
    {
     "name": "stderr",
     "output_type": "stream",
     "text": [
      "100%|██████████| 58230/58230 [00:34<00:00, 1696.28it/s]\n"
     ]
    },
    {
     "name": "stdout",
     "output_type": "stream",
     "text": [
      "sim_dump/0.50_0.00_0.00_10/x.comp.load.14.dat\n",
      "sim_dump/0.50_0.00_0.00_10.x.comp.dump\n"
     ]
    },
    {
     "name": "stderr",
     "output_type": "stream",
     "text": [
      "100%|██████████| 58230/58230 [00:32<00:00, 1799.41it/s]\n"
     ]
    },
    {
     "name": "stdout",
     "output_type": "stream",
     "text": [
      "sim_dump/0.50_0.00_0.00_10/z.comp.load.8.dat\n",
      "sim_dump/0.50_0.00_0.00_10.z.comp.dump\n"
     ]
    },
    {
     "name": "stderr",
     "output_type": "stream",
     "text": [
      "100%|██████████| 58230/58230 [00:34<00:00, 1669.90it/s]\n"
     ]
    },
    {
     "name": "stdout",
     "output_type": "stream",
     "text": [
      "sim_dump/0.50_0.00_0.00_10/x.comp.load.1.dat\n",
      "sim_dump/0.50_0.00_0.00_10.x.comp.dump\n"
     ]
    },
    {
     "name": "stderr",
     "output_type": "stream",
     "text": [
      "100%|██████████| 58230/58230 [00:33<00:00, 1743.16it/s]\n"
     ]
    },
    {
     "name": "stdout",
     "output_type": "stream",
     "text": [
      "sim_dump/0.50_0.00_0.00_10/z.comp.load.9.dat\n",
      "sim_dump/0.50_0.00_0.00_10.z.comp.dump\n"
     ]
    },
    {
     "name": "stderr",
     "output_type": "stream",
     "text": [
      "100%|██████████| 58230/58230 [00:33<00:00, 1744.04it/s]\n"
     ]
    },
    {
     "name": "stdout",
     "output_type": "stream",
     "text": [
      "sim_dump/0.50_0.00_0.00_10/x.comp.load.15.dat\n",
      "sim_dump/0.50_0.00_0.00_10.x.comp.dump\n"
     ]
    },
    {
     "name": "stderr",
     "output_type": "stream",
     "text": [
      "100%|██████████| 58230/58230 [00:33<00:00, 1720.29it/s]\n"
     ]
    },
    {
     "name": "stdout",
     "output_type": "stream",
     "text": [
      "sim_dump/0.50_0.00_0.00_10/x.comp.load.17.dat\n",
      "sim_dump/0.50_0.00_0.00_10.x.comp.dump\n"
     ]
    },
    {
     "name": "stderr",
     "output_type": "stream",
     "text": [
      "100%|██████████| 58230/58230 [00:35<00:00, 1637.30it/s]\n"
     ]
    },
    {
     "name": "stdout",
     "output_type": "stream",
     "text": [
      "sim_dump/0.50_0.00_0.00_10/x.comp.load.3.dat\n",
      "sim_dump/0.50_0.00_0.00_10.x.comp.dump\n"
     ]
    },
    {
     "name": "stderr",
     "output_type": "stream",
     "text": [
      "100%|██████████| 58230/58230 [00:34<00:00, 1687.03it/s]\n"
     ]
    },
    {
     "name": "stdout",
     "output_type": "stream",
     "text": [
      "sim_dump/0.50_0.00_0.00_10/x.comp.load.2.dat\n",
      "sim_dump/0.50_0.00_0.00_10.x.comp.dump\n"
     ]
    },
    {
     "name": "stderr",
     "output_type": "stream",
     "text": [
      "100%|██████████| 58230/58230 [00:33<00:00, 1763.84it/s]\n"
     ]
    },
    {
     "name": "stdout",
     "output_type": "stream",
     "text": [
      "sim_dump/0.50_0.00_0.00_10/x.comp.load.16.dat\n",
      "sim_dump/0.50_0.00_0.00_10.x.comp.dump\n"
     ]
    },
    {
     "name": "stderr",
     "output_type": "stream",
     "text": [
      "100%|██████████| 58230/58230 [00:33<00:00, 1757.99it/s]\n"
     ]
    },
    {
     "name": "stdout",
     "output_type": "stream",
     "text": [
      "sim_dump/0.50_0.00_0.00_10/y.comp.load.13.dat\n",
      "sim_dump/0.50_0.00_0.00_10.y.comp.dump\n"
     ]
    },
    {
     "name": "stderr",
     "output_type": "stream",
     "text": [
      "100%|██████████| 58230/58230 [00:33<00:00, 1754.58it/s]\n"
     ]
    },
    {
     "name": "stdout",
     "output_type": "stream",
     "text": [
      "sim_dump/0.50_0.00_0.00_10/z.comp.load.25.dat\n",
      "sim_dump/0.50_0.00_0.00_10.z.comp.dump\n"
     ]
    },
    {
     "name": "stderr",
     "output_type": "stream",
     "text": [
      "100%|██████████| 58230/58230 [00:35<00:00, 1662.22it/s]\n"
     ]
    },
    {
     "name": "stdout",
     "output_type": "stream",
     "text": [
      "sim_dump/0.50_0.00_0.00_10/z.comp.load.19.dat\n",
      "sim_dump/0.50_0.00_0.00_10.z.comp.dump\n"
     ]
    },
    {
     "name": "stderr",
     "output_type": "stream",
     "text": [
      "100%|██████████| 58230/58230 [00:33<00:00, 1758.82it/s]\n"
     ]
    },
    {
     "name": "stdout",
     "output_type": "stream",
     "text": [
      "sim_dump/0.50_0.00_0.00_10/z.comp.load.18.dat\n",
      "sim_dump/0.50_0.00_0.00_10.z.comp.dump\n"
     ]
    },
    {
     "name": "stderr",
     "output_type": "stream",
     "text": [
      "100%|██████████| 58230/58230 [00:33<00:00, 1740.85it/s]\n"
     ]
    },
    {
     "name": "stdout",
     "output_type": "stream",
     "text": [
      "sim_dump/0.50_0.00_0.00_10/z.comp.load.24.dat\n",
      "sim_dump/0.50_0.00_0.00_10.z.comp.dump\n"
     ]
    },
    {
     "name": "stderr",
     "output_type": "stream",
     "text": [
      "100%|██████████| 58230/58230 [00:32<00:00, 1769.75it/s]\n"
     ]
    },
    {
     "name": "stdout",
     "output_type": "stream",
     "text": [
      "sim_dump/0.50_0.00_0.00_10/y.comp.load.12.dat\n",
      "sim_dump/0.50_0.00_0.00_10.y.comp.dump\n"
     ]
    },
    {
     "name": "stderr",
     "output_type": "stream",
     "text": [
      "100%|██████████| 58230/58230 [00:33<00:00, 1719.24it/s]\n"
     ]
    },
    {
     "name": "stdout",
     "output_type": "stream",
     "text": [
      "sim_dump/0.50_0.00_0.00_10/y.comp.load.1.dat\n",
      "sim_dump/0.50_0.00_0.00_10.y.comp.dump\n"
     ]
    },
    {
     "name": "stderr",
     "output_type": "stream",
     "text": [
      "100%|██████████| 58230/58230 [00:33<00:00, 1719.61it/s]\n"
     ]
    },
    {
     "name": "stdout",
     "output_type": "stream",
     "text": [
      "sim_dump/0.50_0.00_0.00_10/y.comp.load.3.dat\n",
      "sim_dump/0.50_0.00_0.00_10.y.comp.dump\n"
     ]
    },
    {
     "name": "stderr",
     "output_type": "stream",
     "text": [
      "100%|██████████| 58230/58230 [00:32<00:00, 1800.95it/s]\n"
     ]
    },
    {
     "name": "stdout",
     "output_type": "stream",
     "text": [
      "sim_dump/0.50_0.00_0.00_10/y.comp.load.10.dat\n",
      "sim_dump/0.50_0.00_0.00_10.y.comp.dump\n"
     ]
    },
    {
     "name": "stderr",
     "output_type": "stream",
     "text": [
      "100%|██████████| 58230/58230 [00:35<00:00, 1648.84it/s]\n"
     ]
    },
    {
     "name": "stdout",
     "output_type": "stream",
     "text": [
      "sim_dump/0.50_0.00_0.00_10/y.comp.load.11.dat\n",
      "sim_dump/0.50_0.00_0.00_10.y.comp.dump\n"
     ]
    },
    {
     "name": "stderr",
     "output_type": "stream",
     "text": [
      "100%|██████████| 58230/58230 [00:36<00:00, 1616.76it/s]\n"
     ]
    },
    {
     "name": "stdout",
     "output_type": "stream",
     "text": [
      "sim_dump/0.50_0.00_0.00_10/y.comp.load.2.dat\n",
      "sim_dump/0.50_0.00_0.00_10.y.comp.dump\n"
     ]
    },
    {
     "name": "stderr",
     "output_type": "stream",
     "text": [
      "100%|██████████| 58230/58230 [00:34<00:00, 1684.32it/s]\n"
     ]
    },
    {
     "name": "stdout",
     "output_type": "stream",
     "text": [
      "sim_dump/0.50_0.00_0.00_10/y.comp.load.6.dat\n",
      "sim_dump/0.50_0.00_0.00_10.y.comp.dump\n"
     ]
    },
    {
     "name": "stderr",
     "output_type": "stream",
     "text": [
      "100%|██████████| 58230/58230 [00:37<00:00, 1546.27it/s]\n"
     ]
    },
    {
     "name": "stdout",
     "output_type": "stream",
     "text": [
      "sim_dump/0.50_0.00_0.00_10/y.comp.load.15.dat\n",
      "sim_dump/0.50_0.00_0.00_10.y.comp.dump\n"
     ]
    },
    {
     "name": "stderr",
     "output_type": "stream",
     "text": [
      "100%|██████████| 58230/58230 [00:40<00:00, 1438.34it/s]\n"
     ]
    },
    {
     "name": "stdout",
     "output_type": "stream",
     "text": [
      "sim_dump/0.50_0.00_0.00_10/z.comp.load.23.dat\n",
      "sim_dump/0.50_0.00_0.00_10.z.comp.dump\n"
     ]
    },
    {
     "name": "stderr",
     "output_type": "stream",
     "text": [
      "100%|██████████| 58230/58230 [00:36<00:00, 1578.05it/s]\n"
     ]
    },
    {
     "name": "stdout",
     "output_type": "stream",
     "text": [
      "sim_dump/0.50_0.00_0.00_10/z.comp.load.22.dat\n",
      "sim_dump/0.50_0.00_0.00_10.z.comp.dump\n"
     ]
    },
    {
     "name": "stderr",
     "output_type": "stream",
     "text": [
      "100%|██████████| 58230/58230 [00:36<00:00, 1607.58it/s]\n"
     ]
    },
    {
     "name": "stdout",
     "output_type": "stream",
     "text": [
      "sim_dump/0.50_0.00_0.00_10/y.comp.load.14.dat\n",
      "sim_dump/0.50_0.00_0.00_10.y.comp.dump\n"
     ]
    },
    {
     "name": "stderr",
     "output_type": "stream",
     "text": [
      "100%|██████████| 58230/58230 [00:42<00:00, 1372.78it/s]\n"
     ]
    },
    {
     "name": "stdout",
     "output_type": "stream",
     "text": [
      "sim_dump/0.50_0.00_0.00_10/y.comp.load.7.dat\n",
      "sim_dump/0.50_0.00_0.00_10.y.comp.dump\n"
     ]
    },
    {
     "name": "stderr",
     "output_type": "stream",
     "text": [
      "100%|██████████| 58230/58230 [00:43<00:00, 1327.69it/s]\n"
     ]
    },
    {
     "name": "stdout",
     "output_type": "stream",
     "text": [
      "sim_dump/0.50_0.00_0.00_10/y.comp.load.5.dat\n",
      "sim_dump/0.50_0.00_0.00_10.y.comp.dump\n"
     ]
    },
    {
     "name": "stderr",
     "output_type": "stream",
     "text": [
      "100%|██████████| 58230/58230 [00:38<00:00, 1501.58it/s]\n"
     ]
    },
    {
     "name": "stdout",
     "output_type": "stream",
     "text": [
      "sim_dump/0.50_0.00_0.00_10/y.comp.load.16.dat\n",
      "sim_dump/0.50_0.00_0.00_10.y.comp.dump\n"
     ]
    },
    {
     "name": "stderr",
     "output_type": "stream",
     "text": [
      "100%|██████████| 58230/58230 [00:34<00:00, 1706.47it/s]\n"
     ]
    },
    {
     "name": "stdout",
     "output_type": "stream",
     "text": [
      "sim_dump/0.50_0.00_0.00_10/z.comp.load.20.dat\n",
      "sim_dump/0.50_0.00_0.00_10.z.comp.dump\n"
     ]
    },
    {
     "name": "stderr",
     "output_type": "stream",
     "text": [
      "100%|██████████| 58230/58230 [00:38<00:00, 1523.74it/s]\n"
     ]
    },
    {
     "name": "stdout",
     "output_type": "stream",
     "text": [
      "sim_dump/0.50_0.00_0.00_10/z.comp.load.21.dat\n",
      "sim_dump/0.50_0.00_0.00_10.z.comp.dump\n"
     ]
    },
    {
     "name": "stderr",
     "output_type": "stream",
     "text": [
      "100%|██████████| 58230/58230 [00:33<00:00, 1739.47it/s]\n"
     ]
    },
    {
     "name": "stdout",
     "output_type": "stream",
     "text": [
      "sim_dump/0.50_0.00_0.00_10/y.comp.load.17.dat\n",
      "sim_dump/0.50_0.00_0.00_10.y.comp.dump\n"
     ]
    },
    {
     "name": "stderr",
     "output_type": "stream",
     "text": [
      "100%|██████████| 58230/58230 [00:32<00:00, 1778.32it/s]\n"
     ]
    },
    {
     "name": "stdout",
     "output_type": "stream",
     "text": [
      "sim_dump/0.50_0.00_0.00_10/y.comp.load.4.dat\n",
      "sim_dump/0.50_0.00_0.00_10.y.comp.dump\n"
     ]
    },
    {
     "name": "stderr",
     "output_type": "stream",
     "text": [
      "100%|██████████| 58230/58230 [00:32<00:00, 1791.41it/s]\n"
     ]
    },
    {
     "name": "stdout",
     "output_type": "stream",
     "text": [
      "sim_dump/0.50_0.00_0.00_10/y.comp.load.9.dat\n",
      "sim_dump/0.50_0.00_0.00_10.y.comp.dump\n"
     ]
    },
    {
     "name": "stderr",
     "output_type": "stream",
     "text": [
      "100%|██████████| 58230/58230 [00:35<00:00, 1624.19it/s]\n"
     ]
    },
    {
     "name": "stdout",
     "output_type": "stream",
     "text": [
      "sim_dump/0.50_0.00_0.00_10/z.comp.load.10.dat\n",
      "sim_dump/0.50_0.00_0.00_10.z.comp.dump\n"
     ]
    },
    {
     "name": "stderr",
     "output_type": "stream",
     "text": [
      "100%|██████████| 58230/58230 [00:35<00:00, 1623.91it/s]\n"
     ]
    },
    {
     "name": "stdout",
     "output_type": "stream",
     "text": [
      "sim_dump/0.50_0.00_0.00_10/z.comp.load.11.dat\n",
      "sim_dump/0.50_0.00_0.00_10.z.comp.dump\n"
     ]
    },
    {
     "name": "stderr",
     "output_type": "stream",
     "text": [
      "100%|██████████| 58230/58230 [00:32<00:00, 1784.04it/s]\n"
     ]
    },
    {
     "name": "stdout",
     "output_type": "stream",
     "text": [
      "sim_dump/0.50_0.00_0.00_10/y.comp.load.8.dat\n",
      "sim_dump/0.50_0.00_0.00_10.y.comp.dump\n"
     ]
    },
    {
     "name": "stderr",
     "output_type": "stream",
     "text": [
      "100%|██████████| 58230/58230 [00:33<00:00, 1744.89it/s]\n"
     ]
    },
    {
     "name": "stdout",
     "output_type": "stream",
     "text": [
      "sim_dump/0.50_0.00_0.00_10/y.comp.load.25.dat\n",
      "sim_dump/0.50_0.00_0.00_10.y.comp.dump\n"
     ]
    },
    {
     "name": "stderr",
     "output_type": "stream",
     "text": [
      "100%|██████████| 58230/58230 [00:32<00:00, 1769.05it/s]\n"
     ]
    },
    {
     "name": "stdout",
     "output_type": "stream",
     "text": [
      "sim_dump/0.50_0.00_0.00_10/y.comp.load.19.dat\n",
      "sim_dump/0.50_0.00_0.00_10.y.comp.dump\n"
     ]
    },
    {
     "name": "stderr",
     "output_type": "stream",
     "text": [
      "100%|██████████| 58230/58230 [00:36<00:00, 1587.99it/s]\n"
     ]
    },
    {
     "name": "stdout",
     "output_type": "stream",
     "text": [
      "sim_dump/0.50_0.00_0.00_10/z.comp.load.13.dat\n",
      "sim_dump/0.50_0.00_0.00_10.z.comp.dump\n"
     ]
    },
    {
     "name": "stderr",
     "output_type": "stream",
     "text": [
      "100%|██████████| 58230/58230 [00:33<00:00, 1750.42it/s]\n"
     ]
    },
    {
     "name": "stdout",
     "output_type": "stream",
     "text": [
      "sim_dump/0.50_0.00_0.00_10/z.comp.load.12.dat\n",
      "sim_dump/0.50_0.00_0.00_10.z.comp.dump\n"
     ]
    },
    {
     "name": "stderr",
     "output_type": "stream",
     "text": [
      "100%|██████████| 58230/58230 [00:33<00:00, 1746.43it/s]\n"
     ]
    },
    {
     "name": "stdout",
     "output_type": "stream",
     "text": [
      "sim_dump/0.50_0.00_0.00_10/y.comp.load.18.dat\n",
      "sim_dump/0.50_0.00_0.00_10.y.comp.dump\n"
     ]
    },
    {
     "name": "stderr",
     "output_type": "stream",
     "text": [
      "100%|██████████| 58230/58230 [00:32<00:00, 1783.02it/s]\n"
     ]
    },
    {
     "name": "stdout",
     "output_type": "stream",
     "text": [
      "sim_dump/0.50_0.00_0.00_10/y.comp.load.24.dat\n",
      "sim_dump/0.50_0.00_0.00_10.y.comp.dump\n"
     ]
    },
    {
     "name": "stderr",
     "output_type": "stream",
     "text": [
      "100%|██████████| 58230/58230 [00:33<00:00, 1715.49it/s]\n"
     ]
    },
    {
     "name": "stdout",
     "output_type": "stream",
     "text": [
      "sim_dump/0.50_0.00_0.00_10/y.comp.load.20.dat\n",
      "sim_dump/0.50_0.00_0.00_10.y.comp.dump\n"
     ]
    },
    {
     "name": "stderr",
     "output_type": "stream",
     "text": [
      "100%|██████████| 58230/58230 [00:34<00:00, 1665.73it/s]\n"
     ]
    },
    {
     "name": "stdout",
     "output_type": "stream",
     "text": [
      "sim_dump/0.50_0.00_0.00_10/z.comp.load.16.dat\n",
      "sim_dump/0.50_0.00_0.00_10.z.comp.dump\n"
     ]
    },
    {
     "name": "stderr",
     "output_type": "stream",
     "text": [
      "100%|██████████| 58230/58230 [00:33<00:00, 1738.38it/s]\n"
     ]
    },
    {
     "name": "stdout",
     "output_type": "stream",
     "text": [
      "sim_dump/0.50_0.00_0.00_10/z.comp.load.17.dat\n",
      "sim_dump/0.50_0.00_0.00_10.z.comp.dump\n"
     ]
    },
    {
     "name": "stderr",
     "output_type": "stream",
     "text": [
      "100%|██████████| 58230/58230 [00:34<00:00, 1676.15it/s]\n"
     ]
    },
    {
     "name": "stdout",
     "output_type": "stream",
     "text": [
      "sim_dump/0.50_0.00_0.00_10/y.comp.load.21.dat\n",
      "sim_dump/0.50_0.00_0.00_10.y.comp.dump\n"
     ]
    },
    {
     "name": "stderr",
     "output_type": "stream",
     "text": [
      "100%|██████████| 58230/58230 [00:33<00:00, 1748.09it/s]\n"
     ]
    },
    {
     "name": "stdout",
     "output_type": "stream",
     "text": [
      "sim_dump/0.50_0.00_0.00_10/y.comp.load.23.dat\n",
      "sim_dump/0.50_0.00_0.00_10.y.comp.dump\n"
     ]
    },
    {
     "name": "stderr",
     "output_type": "stream",
     "text": [
      "100%|██████████| 58230/58230 [00:32<00:00, 1768.25it/s]\n"
     ]
    },
    {
     "name": "stdout",
     "output_type": "stream",
     "text": [
      "sim_dump/0.50_0.00_0.00_10/z.comp.load.15.dat\n",
      "sim_dump/0.50_0.00_0.00_10.z.comp.dump\n"
     ]
    },
    {
     "name": "stderr",
     "output_type": "stream",
     "text": [
      "100%|██████████| 58230/58230 [00:34<00:00, 1674.84it/s]\n"
     ]
    },
    {
     "name": "stdout",
     "output_type": "stream",
     "text": [
      "sim_dump/0.50_0.00_0.00_10/z.comp.load.14.dat\n",
      "sim_dump/0.50_0.00_0.00_10.z.comp.dump\n"
     ]
    },
    {
     "name": "stderr",
     "output_type": "stream",
     "text": [
      "100%|██████████| 58230/58230 [00:33<00:00, 1717.19it/s]\n"
     ]
    },
    {
     "name": "stdout",
     "output_type": "stream",
     "text": [
      "sim_dump/0.50_0.00_0.00_10/y.comp.load.22.dat\n",
      "sim_dump/0.50_0.00_0.00_10.y.comp.dump\n"
     ]
    },
    {
     "name": "stderr",
     "output_type": "stream",
     "text": [
      "100%|██████████| 58230/58230 [00:34<00:00, 1665.94it/s]\n"
     ]
    },
    {
     "name": "stdout",
     "output_type": "stream",
     "text": [
      "sim_dump/0.50_0.00_0.00_10/z.comp.load.7.dat\n",
      "sim_dump/0.50_0.00_0.00_10.z.comp.dump\n"
     ]
    },
    {
     "name": "stderr",
     "output_type": "stream",
     "text": [
      "100%|██████████| 58230/58230 [00:32<00:00, 1771.12it/s]\n"
     ]
    },
    {
     "name": "stdout",
     "output_type": "stream",
     "text": [
      "sim_dump/0.50_0.00_0.00_10/z.comp.load.6.dat\n",
      "sim_dump/0.50_0.00_0.00_10.z.comp.dump\n"
     ]
    },
    {
     "name": "stderr",
     "output_type": "stream",
     "text": [
      "100%|██████████| 58230/58230 [00:32<00:00, 1780.78it/s]\n"
     ]
    },
    {
     "name": "stdout",
     "output_type": "stream",
     "text": [
      "sim_dump/0.50_0.00_0.00_10/x.comp.load.24.dat\n",
      "sim_dump/0.50_0.00_0.00_10.x.comp.dump\n"
     ]
    },
    {
     "name": "stderr",
     "output_type": "stream",
     "text": [
      "100%|██████████| 58230/58230 [00:36<00:00, 1606.58it/s]\n"
     ]
    },
    {
     "name": "stdout",
     "output_type": "stream",
     "text": [
      "sim_dump/0.50_0.00_0.00_10/x.comp.load.18.dat\n",
      "sim_dump/0.50_0.00_0.00_10.x.comp.dump\n"
     ]
    },
    {
     "name": "stderr",
     "output_type": "stream",
     "text": [
      "100%|██████████| 58230/58230 [00:33<00:00, 1742.92it/s]\n"
     ]
    },
    {
     "name": "stdout",
     "output_type": "stream",
     "text": [
      "sim_dump/0.50_0.00_0.00_10/z.comp.load.4.dat\n",
      "sim_dump/0.50_0.00_0.00_10.z.comp.dump\n"
     ]
    },
    {
     "name": "stderr",
     "output_type": "stream",
     "text": [
      "100%|██████████| 58230/58230 [00:35<00:00, 1649.26it/s]\n"
     ]
    },
    {
     "name": "stdout",
     "output_type": "stream",
     "text": [
      "sim_dump/0.50_0.00_0.00_10/z.comp.load.5.dat\n",
      "sim_dump/0.50_0.00_0.00_10.z.comp.dump\n"
     ]
    },
    {
     "name": "stderr",
     "output_type": "stream",
     "text": [
      "100%|██████████| 58230/58230 [00:32<00:00, 1792.95it/s]\n"
     ]
    },
    {
     "name": "stdout",
     "output_type": "stream",
     "text": [
      "sim_dump/0.50_0.00_0.00_10/x.comp.load.19.dat\n",
      "sim_dump/0.50_0.00_0.00_10.x.comp.dump\n"
     ]
    },
    {
     "name": "stderr",
     "output_type": "stream",
     "text": [
      "100%|██████████| 58230/58230 [00:35<00:00, 1637.98it/s]\n"
     ]
    },
    {
     "name": "stdout",
     "output_type": "stream",
     "text": [
      "sim_dump/0.50_0.00_0.00_10/x.comp.load.25.dat\n",
      "sim_dump/0.50_0.00_0.00_10.x.comp.dump\n"
     ]
    },
    {
     "name": "stderr",
     "output_type": "stream",
     "text": [
      "100%|██████████| 58230/58230 [00:34<00:00, 1689.07it/s]\n"
     ]
    },
    {
     "name": "stdout",
     "output_type": "stream",
     "text": [
      "sim_dump/0.50_0.00_0.00_10/x.comp.load.21.dat\n",
      "sim_dump/0.50_0.00_0.00_10.x.comp.dump\n"
     ]
    },
    {
     "name": "stderr",
     "output_type": "stream",
     "text": [
      "100%|██████████| 58230/58230 [00:33<00:00, 1730.61it/s]\n"
     ]
    },
    {
     "name": "stdout",
     "output_type": "stream",
     "text": [
      "sim_dump/0.50_0.00_0.00_10/z.comp.load.1.dat\n",
      "sim_dump/0.50_0.00_0.00_10.z.comp.dump\n"
     ]
    },
    {
     "name": "stderr",
     "output_type": "stream",
     "text": [
      "100%|██████████| 58230/58230 [00:33<00:00, 1738.05it/s]\n"
     ]
    },
    {
     "name": "stdout",
     "output_type": "stream",
     "text": [
      "sim_dump/0.50_0.00_0.00_10/x.comp.load.9.dat\n",
      "sim_dump/0.50_0.00_0.00_10.x.comp.dump\n"
     ]
    },
    {
     "name": "stderr",
     "output_type": "stream",
     "text": [
      "100%|██████████| 58230/58230 [00:34<00:00, 1699.31it/s]\n"
     ]
    },
    {
     "name": "stdout",
     "output_type": "stream",
     "text": [
      "sim_dump/0.50_0.00_0.00_10/x.comp.load.8.dat\n",
      "sim_dump/0.50_0.00_0.00_10.x.comp.dump\n"
     ]
    },
    {
     "name": "stderr",
     "output_type": "stream",
     "text": [
      "100%|██████████| 58230/58230 [00:35<00:00, 1655.73it/s]\n"
     ]
    },
    {
     "name": "stdout",
     "output_type": "stream",
     "text": [
      "sim_dump/0.50_0.00_0.00_10/x.comp.load.20.dat\n",
      "sim_dump/0.50_0.00_0.00_10.x.comp.dump\n"
     ]
    },
    {
     "name": "stderr",
     "output_type": "stream",
     "text": [
      "100%|██████████| 58230/58230 [00:32<00:00, 1788.18it/s]\n"
     ]
    },
    {
     "name": "stdout",
     "output_type": "stream",
     "text": [
      "sim_dump/0.50_0.00_0.00_10/x.comp.load.22.dat\n",
      "sim_dump/0.50_0.00_0.00_10.x.comp.dump\n"
     ]
    },
    {
     "name": "stderr",
     "output_type": "stream",
     "text": [
      "100%|██████████| 58230/58230 [00:32<00:00, 1795.01it/s]\n"
     ]
    },
    {
     "name": "stdout",
     "output_type": "stream",
     "text": [
      "sim_dump/0.50_0.00_0.00_10/z.comp.load.2.dat\n",
      "sim_dump/0.50_0.00_0.00_10.z.comp.dump\n"
     ]
    },
    {
     "name": "stderr",
     "output_type": "stream",
     "text": [
      "100%|██████████| 58230/58230 [00:33<00:00, 1746.41it/s]\n"
     ]
    },
    {
     "name": "stdout",
     "output_type": "stream",
     "text": [
      "sim_dump/0.50_0.00_0.00_10/z.comp.load.3.dat\n",
      "sim_dump/0.50_0.00_0.00_10.z.comp.dump\n"
     ]
    },
    {
     "name": "stderr",
     "output_type": "stream",
     "text": [
      "100%|██████████| 58230/58230 [00:33<00:00, 1720.85it/s]\n"
     ]
    },
    {
     "name": "stdout",
     "output_type": "stream",
     "text": [
      "sim_dump/0.50_0.00_0.00_10/x.comp.load.23.dat\n",
      "sim_dump/0.50_0.00_0.00_10.x.comp.dump\n"
     ]
    },
    {
     "name": "stderr",
     "output_type": "stream",
     "text": [
      "100%|██████████| 58230/58230 [00:32<00:00, 1799.29it/s]\n"
     ]
    },
    {
     "name": "stdout",
     "output_type": "stream",
     "text": [
      "sim_dump/0.30_0.30_0.40_10/x.comp.load.12.dat\n",
      "sim_dump/0.30_0.30_0.40_10.x.comp.dump\n"
     ]
    },
    {
     "name": "stderr",
     "output_type": "stream",
     "text": [
      "100%|██████████| 58755/58755 [00:33<00:00, 1775.25it/s]\n"
     ]
    },
    {
     "name": "stdout",
     "output_type": "stream",
     "text": [
      "sim_dump/0.30_0.30_0.40_10/x.comp.load.6.dat\n",
      "sim_dump/0.30_0.30_0.40_10.x.comp.dump\n"
     ]
    },
    {
     "name": "stderr",
     "output_type": "stream",
     "text": [
      "100%|██████████| 58755/58755 [00:34<00:00, 1717.57it/s]\n"
     ]
    },
    {
     "name": "stdout",
     "output_type": "stream",
     "text": [
      "sim_dump/0.30_0.30_0.40_10/x.comp.load.7.dat\n",
      "sim_dump/0.30_0.30_0.40_10.x.comp.dump\n"
     ]
    },
    {
     "name": "stderr",
     "output_type": "stream",
     "text": [
      "100%|██████████| 58755/58755 [00:33<00:00, 1778.62it/s]\n"
     ]
    },
    {
     "name": "stdout",
     "output_type": "stream",
     "text": [
      "sim_dump/0.30_0.30_0.40_10/x.comp.load.13.dat\n",
      "sim_dump/0.30_0.30_0.40_10.x.comp.dump\n"
     ]
    },
    {
     "name": "stderr",
     "output_type": "stream",
     "text": [
      "100%|██████████| 58755/58755 [00:34<00:00, 1697.92it/s]\n"
     ]
    },
    {
     "name": "stdout",
     "output_type": "stream",
     "text": [
      "sim_dump/0.30_0.30_0.40_10/x.comp.load.11.dat\n",
      "sim_dump/0.30_0.30_0.40_10.x.comp.dump\n"
     ]
    },
    {
     "name": "stderr",
     "output_type": "stream",
     "text": [
      "100%|██████████| 58755/58755 [00:33<00:00, 1778.81it/s]\n"
     ]
    },
    {
     "name": "stdout",
     "output_type": "stream",
     "text": [
      "sim_dump/0.30_0.30_0.40_10/x.comp.load.5.dat\n",
      "sim_dump/0.30_0.30_0.40_10.x.comp.dump\n"
     ]
    },
    {
     "name": "stderr",
     "output_type": "stream",
     "text": [
      "100%|██████████| 58755/58755 [00:35<00:00, 1675.39it/s]\n"
     ]
    },
    {
     "name": "stdout",
     "output_type": "stream",
     "text": [
      "sim_dump/0.30_0.30_0.40_10/x.comp.load.4.dat\n",
      "sim_dump/0.30_0.30_0.40_10.x.comp.dump\n"
     ]
    },
    {
     "name": "stderr",
     "output_type": "stream",
     "text": [
      "100%|██████████| 58755/58755 [00:33<00:00, 1765.32it/s]\n"
     ]
    },
    {
     "name": "stdout",
     "output_type": "stream",
     "text": [
      "sim_dump/0.30_0.30_0.40_10/x.comp.load.10.dat\n",
      "sim_dump/0.30_0.30_0.40_10.x.comp.dump\n"
     ]
    },
    {
     "name": "stderr",
     "output_type": "stream",
     "text": [
      "100%|██████████| 58755/58755 [00:33<00:00, 1779.17it/s]\n"
     ]
    },
    {
     "name": "stdout",
     "output_type": "stream",
     "text": [
      "sim_dump/0.30_0.30_0.40_10/x.comp.load.14.dat\n",
      "sim_dump/0.30_0.30_0.40_10.x.comp.dump\n"
     ]
    },
    {
     "name": "stderr",
     "output_type": "stream",
     "text": [
      "100%|██████████| 58755/58755 [00:34<00:00, 1717.27it/s]\n"
     ]
    },
    {
     "name": "stdout",
     "output_type": "stream",
     "text": [
      "sim_dump/0.30_0.30_0.40_10/z.comp.load.8.dat\n",
      "sim_dump/0.30_0.30_0.40_10.z.comp.dump\n"
     ]
    },
    {
     "name": "stderr",
     "output_type": "stream",
     "text": [
      "100%|██████████| 58755/58755 [00:34<00:00, 1727.74it/s]\n"
     ]
    },
    {
     "name": "stdout",
     "output_type": "stream",
     "text": [
      "sim_dump/0.30_0.30_0.40_10/x.comp.load.1.dat\n",
      "sim_dump/0.30_0.30_0.40_10.x.comp.dump\n"
     ]
    },
    {
     "name": "stderr",
     "output_type": "stream",
     "text": [
      "100%|██████████| 58755/58755 [00:34<00:00, 1721.73it/s]\n"
     ]
    },
    {
     "name": "stdout",
     "output_type": "stream",
     "text": [
      "sim_dump/0.30_0.30_0.40_10/z.comp.load.9.dat\n",
      "sim_dump/0.30_0.30_0.40_10.z.comp.dump\n"
     ]
    },
    {
     "name": "stderr",
     "output_type": "stream",
     "text": [
      "100%|██████████| 58755/58755 [00:33<00:00, 1737.55it/s]\n"
     ]
    },
    {
     "name": "stdout",
     "output_type": "stream",
     "text": [
      "sim_dump/0.30_0.30_0.40_10/x.comp.load.15.dat\n",
      "sim_dump/0.30_0.30_0.40_10.x.comp.dump\n"
     ]
    },
    {
     "name": "stderr",
     "output_type": "stream",
     "text": [
      "100%|██████████| 58755/58755 [00:36<00:00, 1625.42it/s]\n"
     ]
    },
    {
     "name": "stdout",
     "output_type": "stream",
     "text": [
      "sim_dump/0.30_0.30_0.40_10/x.comp.load.17.dat\n",
      "sim_dump/0.30_0.30_0.40_10.x.comp.dump\n"
     ]
    },
    {
     "name": "stderr",
     "output_type": "stream",
     "text": [
      "100%|██████████| 58755/58755 [00:33<00:00, 1765.51it/s]\n"
     ]
    },
    {
     "name": "stdout",
     "output_type": "stream",
     "text": [
      "sim_dump/0.30_0.30_0.40_10/x.comp.load.3.dat\n",
      "sim_dump/0.30_0.30_0.40_10.x.comp.dump\n"
     ]
    },
    {
     "name": "stderr",
     "output_type": "stream",
     "text": [
      "100%|██████████| 58755/58755 [00:33<00:00, 1776.41it/s]\n"
     ]
    },
    {
     "name": "stdout",
     "output_type": "stream",
     "text": [
      "sim_dump/0.30_0.30_0.40_10/x.comp.load.2.dat\n",
      "sim_dump/0.30_0.30_0.40_10.x.comp.dump\n"
     ]
    },
    {
     "name": "stderr",
     "output_type": "stream",
     "text": [
      "100%|██████████| 58755/58755 [00:34<00:00, 1705.60it/s]\n"
     ]
    },
    {
     "name": "stdout",
     "output_type": "stream",
     "text": [
      "sim_dump/0.30_0.30_0.40_10/x.comp.load.16.dat\n",
      "sim_dump/0.30_0.30_0.40_10.x.comp.dump\n"
     ]
    },
    {
     "name": "stderr",
     "output_type": "stream",
     "text": [
      "100%|██████████| 58755/58755 [00:33<00:00, 1740.54it/s]\n"
     ]
    },
    {
     "name": "stdout",
     "output_type": "stream",
     "text": [
      "sim_dump/0.30_0.30_0.40_10/y.comp.load.13.dat\n",
      "sim_dump/0.30_0.30_0.40_10.y.comp.dump\n"
     ]
    },
    {
     "name": "stderr",
     "output_type": "stream",
     "text": [
      "100%|██████████| 58755/58755 [00:32<00:00, 1785.63it/s]\n"
     ]
    },
    {
     "name": "stdout",
     "output_type": "stream",
     "text": [
      "sim_dump/0.30_0.30_0.40_10/z.comp.load.25.dat\n",
      "sim_dump/0.30_0.30_0.40_10.z.comp.dump\n"
     ]
    },
    {
     "name": "stderr",
     "output_type": "stream",
     "text": [
      "100%|██████████| 58755/58755 [00:33<00:00, 1737.19it/s]\n"
     ]
    },
    {
     "name": "stdout",
     "output_type": "stream",
     "text": [
      "sim_dump/0.30_0.30_0.40_10/z.comp.load.19.dat\n",
      "sim_dump/0.30_0.30_0.40_10.z.comp.dump\n"
     ]
    },
    {
     "name": "stderr",
     "output_type": "stream",
     "text": [
      "100%|██████████| 58755/58755 [00:32<00:00, 1781.13it/s]\n"
     ]
    },
    {
     "name": "stdout",
     "output_type": "stream",
     "text": [
      "sim_dump/0.30_0.30_0.40_10/z.comp.load.18.dat\n",
      "sim_dump/0.30_0.30_0.40_10.z.comp.dump\n"
     ]
    },
    {
     "name": "stderr",
     "output_type": "stream",
     "text": [
      "100%|██████████| 58755/58755 [00:33<00:00, 1778.20it/s]\n"
     ]
    },
    {
     "name": "stdout",
     "output_type": "stream",
     "text": [
      "sim_dump/0.30_0.30_0.40_10/z.comp.load.24.dat\n",
      "sim_dump/0.30_0.30_0.40_10.z.comp.dump\n"
     ]
    },
    {
     "name": "stderr",
     "output_type": "stream",
     "text": [
      "100%|██████████| 58755/58755 [00:33<00:00, 1770.43it/s]\n"
     ]
    },
    {
     "name": "stdout",
     "output_type": "stream",
     "text": [
      "sim_dump/0.30_0.30_0.40_10/y.comp.load.12.dat\n",
      "sim_dump/0.30_0.30_0.40_10.y.comp.dump\n"
     ]
    },
    {
     "name": "stderr",
     "output_type": "stream",
     "text": [
      "100%|██████████| 58755/58755 [00:35<00:00, 1666.60it/s]\n"
     ]
    },
    {
     "name": "stdout",
     "output_type": "stream",
     "text": [
      "sim_dump/0.30_0.30_0.40_10/y.comp.load.1.dat\n",
      "sim_dump/0.30_0.30_0.40_10.y.comp.dump\n"
     ]
    },
    {
     "name": "stderr",
     "output_type": "stream",
     "text": [
      "100%|██████████| 58755/58755 [00:32<00:00, 1783.27it/s]\n"
     ]
    },
    {
     "name": "stdout",
     "output_type": "stream",
     "text": [
      "sim_dump/0.30_0.30_0.40_10/y.comp.load.3.dat\n",
      "sim_dump/0.30_0.30_0.40_10.y.comp.dump\n"
     ]
    },
    {
     "name": "stderr",
     "output_type": "stream",
     "text": [
      "100%|██████████| 58755/58755 [00:32<00:00, 1790.40it/s]\n"
     ]
    },
    {
     "name": "stdout",
     "output_type": "stream",
     "text": [
      "sim_dump/0.30_0.30_0.40_10/y.comp.load.10.dat\n",
      "sim_dump/0.30_0.30_0.40_10.y.comp.dump\n"
     ]
    },
    {
     "name": "stderr",
     "output_type": "stream",
     "text": [
      "100%|██████████| 58755/58755 [00:32<00:00, 1800.70it/s]\n"
     ]
    },
    {
     "name": "stdout",
     "output_type": "stream",
     "text": [
      "sim_dump/0.30_0.30_0.40_10/y.comp.load.11.dat\n",
      "sim_dump/0.30_0.30_0.40_10.y.comp.dump\n"
     ]
    },
    {
     "name": "stderr",
     "output_type": "stream",
     "text": [
      "100%|██████████| 58755/58755 [00:34<00:00, 1722.62it/s]\n"
     ]
    },
    {
     "name": "stdout",
     "output_type": "stream",
     "text": [
      "sim_dump/0.30_0.30_0.40_10/y.comp.load.2.dat\n",
      "sim_dump/0.30_0.30_0.40_10.y.comp.dump\n"
     ]
    },
    {
     "name": "stderr",
     "output_type": "stream",
     "text": [
      "100%|██████████| 58755/58755 [00:32<00:00, 1792.39it/s]\n"
     ]
    },
    {
     "name": "stdout",
     "output_type": "stream",
     "text": [
      "sim_dump/0.30_0.30_0.40_10/y.comp.load.6.dat\n",
      "sim_dump/0.30_0.30_0.40_10.y.comp.dump\n"
     ]
    },
    {
     "name": "stderr",
     "output_type": "stream",
     "text": [
      "100%|██████████| 58755/58755 [00:33<00:00, 1771.27it/s]\n"
     ]
    },
    {
     "name": "stdout",
     "output_type": "stream",
     "text": [
      "sim_dump/0.30_0.30_0.40_10/y.comp.load.15.dat\n",
      "sim_dump/0.30_0.30_0.40_10.y.comp.dump\n"
     ]
    },
    {
     "name": "stderr",
     "output_type": "stream",
     "text": [
      "100%|██████████| 58755/58755 [00:33<00:00, 1772.95it/s]\n"
     ]
    },
    {
     "name": "stdout",
     "output_type": "stream",
     "text": [
      "sim_dump/0.30_0.30_0.40_10/z.comp.load.23.dat\n",
      "sim_dump/0.30_0.30_0.40_10.z.comp.dump\n"
     ]
    },
    {
     "name": "stderr",
     "output_type": "stream",
     "text": [
      "100%|██████████| 58755/58755 [00:32<00:00, 1801.50it/s]\n"
     ]
    },
    {
     "name": "stdout",
     "output_type": "stream",
     "text": [
      "sim_dump/0.30_0.30_0.40_10/z.comp.load.22.dat\n",
      "sim_dump/0.30_0.30_0.40_10.z.comp.dump\n"
     ]
    },
    {
     "name": "stderr",
     "output_type": "stream",
     "text": [
      "100%|██████████| 58755/58755 [00:34<00:00, 1705.79it/s]\n"
     ]
    },
    {
     "name": "stdout",
     "output_type": "stream",
     "text": [
      "sim_dump/0.30_0.30_0.40_10/y.comp.load.14.dat\n",
      "sim_dump/0.30_0.30_0.40_10.y.comp.dump\n"
     ]
    },
    {
     "name": "stderr",
     "output_type": "stream",
     "text": [
      "100%|██████████| 58755/58755 [00:32<00:00, 1800.12it/s]\n"
     ]
    },
    {
     "name": "stdout",
     "output_type": "stream",
     "text": [
      "sim_dump/0.30_0.30_0.40_10/y.comp.load.7.dat\n",
      "sim_dump/0.30_0.30_0.40_10.y.comp.dump\n"
     ]
    },
    {
     "name": "stderr",
     "output_type": "stream",
     "text": [
      "100%|██████████| 58755/58755 [00:32<00:00, 1794.71it/s]\n"
     ]
    },
    {
     "name": "stdout",
     "output_type": "stream",
     "text": [
      "sim_dump/0.30_0.30_0.40_10/y.comp.load.5.dat\n",
      "sim_dump/0.30_0.30_0.40_10.y.comp.dump\n"
     ]
    },
    {
     "name": "stderr",
     "output_type": "stream",
     "text": [
      "100%|██████████| 58755/58755 [00:32<00:00, 1801.79it/s]\n"
     ]
    },
    {
     "name": "stdout",
     "output_type": "stream",
     "text": [
      "sim_dump/0.30_0.30_0.40_10/y.comp.load.16.dat\n",
      "sim_dump/0.30_0.30_0.40_10.y.comp.dump\n"
     ]
    },
    {
     "name": "stderr",
     "output_type": "stream",
     "text": [
      "100%|██████████| 58755/58755 [00:34<00:00, 1717.09it/s]\n"
     ]
    },
    {
     "name": "stdout",
     "output_type": "stream",
     "text": [
      "sim_dump/0.30_0.30_0.40_10/z.comp.load.20.dat\n",
      "sim_dump/0.30_0.30_0.40_10.z.comp.dump\n"
     ]
    },
    {
     "name": "stderr",
     "output_type": "stream",
     "text": [
      "100%|██████████| 58755/58755 [00:32<00:00, 1798.51it/s]\n"
     ]
    },
    {
     "name": "stdout",
     "output_type": "stream",
     "text": [
      "sim_dump/0.30_0.30_0.40_10/z.comp.load.21.dat\n",
      "sim_dump/0.30_0.30_0.40_10.z.comp.dump\n"
     ]
    },
    {
     "name": "stderr",
     "output_type": "stream",
     "text": [
      "100%|██████████| 58755/58755 [00:33<00:00, 1771.19it/s]\n"
     ]
    },
    {
     "name": "stdout",
     "output_type": "stream",
     "text": [
      "sim_dump/0.30_0.30_0.40_10/y.comp.load.17.dat\n",
      "sim_dump/0.30_0.30_0.40_10.y.comp.dump\n"
     ]
    },
    {
     "name": "stderr",
     "output_type": "stream",
     "text": [
      "100%|██████████| 58755/58755 [00:32<00:00, 1801.65it/s]\n"
     ]
    },
    {
     "name": "stdout",
     "output_type": "stream",
     "text": [
      "sim_dump/0.30_0.30_0.40_10/y.comp.load.4.dat\n",
      "sim_dump/0.30_0.30_0.40_10.y.comp.dump\n"
     ]
    },
    {
     "name": "stderr",
     "output_type": "stream",
     "text": [
      "100%|██████████| 58755/58755 [00:32<00:00, 1797.78it/s]\n"
     ]
    },
    {
     "name": "stdout",
     "output_type": "stream",
     "text": [
      "sim_dump/0.30_0.30_0.40_10/y.comp.load.9.dat\n",
      "sim_dump/0.30_0.30_0.40_10.y.comp.dump\n"
     ]
    },
    {
     "name": "stderr",
     "output_type": "stream",
     "text": [
      "100%|██████████| 58755/58755 [00:32<00:00, 1801.71it/s]\n"
     ]
    },
    {
     "name": "stdout",
     "output_type": "stream",
     "text": [
      "sim_dump/0.30_0.30_0.40_10/z.comp.load.10.dat\n",
      "sim_dump/0.30_0.30_0.40_10.z.comp.dump\n"
     ]
    },
    {
     "name": "stderr",
     "output_type": "stream",
     "text": [
      "100%|██████████| 58755/58755 [00:33<00:00, 1732.19it/s]\n"
     ]
    },
    {
     "name": "stdout",
     "output_type": "stream",
     "text": [
      "sim_dump/0.30_0.30_0.40_10/z.comp.load.11.dat\n",
      "sim_dump/0.30_0.30_0.40_10.z.comp.dump\n"
     ]
    },
    {
     "name": "stderr",
     "output_type": "stream",
     "text": [
      "100%|██████████| 58755/58755 [00:33<00:00, 1735.50it/s]\n"
     ]
    },
    {
     "name": "stdout",
     "output_type": "stream",
     "text": [
      "sim_dump/0.30_0.30_0.40_10/y.comp.load.8.dat\n",
      "sim_dump/0.30_0.30_0.40_10.y.comp.dump\n"
     ]
    },
    {
     "name": "stderr",
     "output_type": "stream",
     "text": [
      "100%|██████████| 58755/58755 [00:32<00:00, 1796.94it/s]\n"
     ]
    },
    {
     "name": "stdout",
     "output_type": "stream",
     "text": [
      "sim_dump/0.30_0.30_0.40_10/y.comp.load.25.dat\n",
      "sim_dump/0.30_0.30_0.40_10.y.comp.dump\n"
     ]
    },
    {
     "name": "stderr",
     "output_type": "stream",
     "text": [
      "100%|██████████| 58755/58755 [00:32<00:00, 1792.76it/s]\n"
     ]
    },
    {
     "name": "stdout",
     "output_type": "stream",
     "text": [
      "sim_dump/0.30_0.30_0.40_10/y.comp.load.19.dat\n",
      "sim_dump/0.30_0.30_0.40_10.y.comp.dump\n"
     ]
    },
    {
     "name": "stderr",
     "output_type": "stream",
     "text": [
      "100%|██████████| 58755/58755 [00:32<00:00, 1791.95it/s]\n"
     ]
    },
    {
     "name": "stdout",
     "output_type": "stream",
     "text": [
      "sim_dump/0.30_0.30_0.40_10/z.comp.load.13.dat\n",
      "sim_dump/0.30_0.30_0.40_10.z.comp.dump\n"
     ]
    },
    {
     "name": "stderr",
     "output_type": "stream",
     "text": [
      "100%|██████████| 58755/58755 [00:34<00:00, 1707.92it/s]\n"
     ]
    },
    {
     "name": "stdout",
     "output_type": "stream",
     "text": [
      "sim_dump/0.30_0.30_0.40_10/z.comp.load.12.dat\n",
      "sim_dump/0.30_0.30_0.40_10.z.comp.dump\n"
     ]
    },
    {
     "name": "stderr",
     "output_type": "stream",
     "text": [
      "100%|██████████| 58755/58755 [00:32<00:00, 1796.86it/s]\n"
     ]
    },
    {
     "name": "stdout",
     "output_type": "stream",
     "text": [
      "sim_dump/0.30_0.30_0.40_10/y.comp.load.18.dat\n",
      "sim_dump/0.30_0.30_0.40_10.y.comp.dump\n"
     ]
    },
    {
     "name": "stderr",
     "output_type": "stream",
     "text": [
      "100%|██████████| 58755/58755 [00:32<00:00, 1800.08it/s]\n"
     ]
    },
    {
     "name": "stdout",
     "output_type": "stream",
     "text": [
      "sim_dump/0.30_0.30_0.40_10/y.comp.load.24.dat\n",
      "sim_dump/0.30_0.30_0.40_10.y.comp.dump\n"
     ]
    },
    {
     "name": "stderr",
     "output_type": "stream",
     "text": [
      "100%|██████████| 58755/58755 [00:32<00:00, 1793.60it/s]\n"
     ]
    },
    {
     "name": "stdout",
     "output_type": "stream",
     "text": [
      "sim_dump/0.30_0.30_0.40_10/y.comp.load.20.dat\n",
      "sim_dump/0.30_0.30_0.40_10.y.comp.dump\n"
     ]
    },
    {
     "name": "stderr",
     "output_type": "stream",
     "text": [
      "100%|██████████| 58755/58755 [00:34<00:00, 1716.11it/s]\n"
     ]
    },
    {
     "name": "stdout",
     "output_type": "stream",
     "text": [
      "sim_dump/0.30_0.30_0.40_10/z.comp.load.16.dat\n",
      "sim_dump/0.30_0.30_0.40_10.z.comp.dump\n"
     ]
    },
    {
     "name": "stderr",
     "output_type": "stream",
     "text": [
      "100%|██████████| 58755/58755 [00:32<00:00, 1799.89it/s]\n"
     ]
    },
    {
     "name": "stdout",
     "output_type": "stream",
     "text": [
      "sim_dump/0.30_0.30_0.40_10/z.comp.load.17.dat\n",
      "sim_dump/0.30_0.30_0.40_10.z.comp.dump\n"
     ]
    },
    {
     "name": "stderr",
     "output_type": "stream",
     "text": [
      "100%|██████████| 58755/58755 [00:32<00:00, 1800.95it/s]\n"
     ]
    },
    {
     "name": "stdout",
     "output_type": "stream",
     "text": [
      "sim_dump/0.30_0.30_0.40_10/y.comp.load.21.dat\n",
      "sim_dump/0.30_0.30_0.40_10.y.comp.dump\n"
     ]
    },
    {
     "name": "stderr",
     "output_type": "stream",
     "text": [
      "100%|██████████| 58755/58755 [00:33<00:00, 1741.29it/s]\n"
     ]
    },
    {
     "name": "stdout",
     "output_type": "stream",
     "text": [
      "sim_dump/0.30_0.30_0.40_10/y.comp.load.23.dat\n",
      "sim_dump/0.30_0.30_0.40_10.y.comp.dump\n"
     ]
    },
    {
     "name": "stderr",
     "output_type": "stream",
     "text": [
      "100%|██████████| 58755/58755 [00:32<00:00, 1794.75it/s]\n"
     ]
    },
    {
     "name": "stdout",
     "output_type": "stream",
     "text": [
      "sim_dump/0.30_0.30_0.40_10/z.comp.load.15.dat\n",
      "sim_dump/0.30_0.30_0.40_10.z.comp.dump\n"
     ]
    },
    {
     "name": "stderr",
     "output_type": "stream",
     "text": [
      "100%|██████████| 58755/58755 [00:32<00:00, 1799.23it/s]\n"
     ]
    },
    {
     "name": "stdout",
     "output_type": "stream",
     "text": [
      "sim_dump/0.30_0.30_0.40_10/z.comp.load.14.dat\n",
      "sim_dump/0.30_0.30_0.40_10.z.comp.dump\n"
     ]
    },
    {
     "name": "stderr",
     "output_type": "stream",
     "text": [
      "100%|██████████| 58755/58755 [00:32<00:00, 1803.91it/s]\n"
     ]
    },
    {
     "name": "stdout",
     "output_type": "stream",
     "text": [
      "sim_dump/0.30_0.30_0.40_10/y.comp.load.22.dat\n",
      "sim_dump/0.30_0.30_0.40_10.y.comp.dump\n"
     ]
    },
    {
     "name": "stderr",
     "output_type": "stream",
     "text": [
      "100%|██████████| 58755/58755 [00:34<00:00, 1712.22it/s]\n"
     ]
    },
    {
     "name": "stdout",
     "output_type": "stream",
     "text": [
      "sim_dump/0.30_0.30_0.40_10/z.comp.load.7.dat\n",
      "sim_dump/0.30_0.30_0.40_10.z.comp.dump\n"
     ]
    },
    {
     "name": "stderr",
     "output_type": "stream",
     "text": [
      "100%|██████████| 58755/58755 [00:32<00:00, 1792.80it/s]\n"
     ]
    },
    {
     "name": "stdout",
     "output_type": "stream",
     "text": [
      "sim_dump/0.30_0.30_0.40_10/z.comp.load.6.dat\n",
      "sim_dump/0.30_0.30_0.40_10.z.comp.dump\n"
     ]
    },
    {
     "name": "stderr",
     "output_type": "stream",
     "text": [
      "100%|██████████| 58755/58755 [00:32<00:00, 1800.52it/s]\n"
     ]
    },
    {
     "name": "stdout",
     "output_type": "stream",
     "text": [
      "sim_dump/0.30_0.30_0.40_10/x.comp.load.24.dat\n",
      "sim_dump/0.30_0.30_0.40_10.x.comp.dump\n"
     ]
    },
    {
     "name": "stderr",
     "output_type": "stream",
     "text": [
      "100%|██████████| 58755/58755 [00:32<00:00, 1804.17it/s]\n"
     ]
    },
    {
     "name": "stdout",
     "output_type": "stream",
     "text": [
      "sim_dump/0.30_0.30_0.40_10/x.comp.load.18.dat\n",
      "sim_dump/0.30_0.30_0.40_10.x.comp.dump\n"
     ]
    },
    {
     "name": "stderr",
     "output_type": "stream",
     "text": [
      "100%|██████████| 58755/58755 [00:33<00:00, 1747.49it/s]\n"
     ]
    },
    {
     "name": "stdout",
     "output_type": "stream",
     "text": [
      "sim_dump/0.30_0.30_0.40_10/z.comp.load.4.dat\n",
      "sim_dump/0.30_0.30_0.40_10.z.comp.dump\n"
     ]
    },
    {
     "name": "stderr",
     "output_type": "stream",
     "text": [
      "100%|██████████| 58755/58755 [00:32<00:00, 1782.26it/s]\n"
     ]
    },
    {
     "name": "stdout",
     "output_type": "stream",
     "text": [
      "sim_dump/0.30_0.30_0.40_10/z.comp.load.5.dat\n",
      "sim_dump/0.30_0.30_0.40_10.z.comp.dump\n"
     ]
    },
    {
     "name": "stderr",
     "output_type": "stream",
     "text": [
      "100%|██████████| 58755/58755 [00:32<00:00, 1792.17it/s]\n"
     ]
    },
    {
     "name": "stdout",
     "output_type": "stream",
     "text": [
      "sim_dump/0.30_0.30_0.40_10/x.comp.load.19.dat\n",
      "sim_dump/0.30_0.30_0.40_10.x.comp.dump\n"
     ]
    },
    {
     "name": "stderr",
     "output_type": "stream",
     "text": [
      "100%|██████████| 58755/58755 [00:32<00:00, 1800.35it/s]\n"
     ]
    },
    {
     "name": "stdout",
     "output_type": "stream",
     "text": [
      "sim_dump/0.30_0.30_0.40_10/x.comp.load.25.dat\n",
      "sim_dump/0.30_0.30_0.40_10.x.comp.dump\n"
     ]
    },
    {
     "name": "stderr",
     "output_type": "stream",
     "text": [
      "100%|██████████| 58755/58755 [00:32<00:00, 1801.25it/s]\n"
     ]
    },
    {
     "name": "stdout",
     "output_type": "stream",
     "text": [
      "sim_dump/0.30_0.30_0.40_10/x.comp.load.21.dat\n",
      "sim_dump/0.30_0.30_0.40_10.x.comp.dump\n"
     ]
    },
    {
     "name": "stderr",
     "output_type": "stream",
     "text": [
      "100%|██████████| 58755/58755 [00:33<00:00, 1752.69it/s]\n"
     ]
    },
    {
     "name": "stdout",
     "output_type": "stream",
     "text": [
      "sim_dump/0.30_0.30_0.40_10/z.comp.load.1.dat\n",
      "sim_dump/0.30_0.30_0.40_10.z.comp.dump\n"
     ]
    },
    {
     "name": "stderr",
     "output_type": "stream",
     "text": [
      "100%|██████████| 58755/58755 [00:33<00:00, 1740.70it/s]\n"
     ]
    },
    {
     "name": "stdout",
     "output_type": "stream",
     "text": [
      "sim_dump/0.30_0.30_0.40_10/x.comp.load.9.dat\n",
      "sim_dump/0.30_0.30_0.40_10.x.comp.dump\n"
     ]
    },
    {
     "name": "stderr",
     "output_type": "stream",
     "text": [
      "100%|██████████| 58755/58755 [00:32<00:00, 1799.57it/s]\n"
     ]
    },
    {
     "name": "stdout",
     "output_type": "stream",
     "text": [
      "sim_dump/0.30_0.30_0.40_10/x.comp.load.8.dat\n",
      "sim_dump/0.30_0.30_0.40_10.x.comp.dump\n"
     ]
    },
    {
     "name": "stderr",
     "output_type": "stream",
     "text": [
      "100%|██████████| 58755/58755 [00:32<00:00, 1801.82it/s]\n"
     ]
    },
    {
     "name": "stdout",
     "output_type": "stream",
     "text": [
      "sim_dump/0.30_0.30_0.40_10/x.comp.load.20.dat\n",
      "sim_dump/0.30_0.30_0.40_10.x.comp.dump\n"
     ]
    },
    {
     "name": "stderr",
     "output_type": "stream",
     "text": [
      "100%|██████████| 58755/58755 [00:32<00:00, 1799.24it/s]\n"
     ]
    },
    {
     "name": "stdout",
     "output_type": "stream",
     "text": [
      "sim_dump/0.30_0.30_0.40_10/x.comp.load.22.dat\n",
      "sim_dump/0.30_0.30_0.40_10.x.comp.dump\n"
     ]
    },
    {
     "name": "stderr",
     "output_type": "stream",
     "text": [
      "100%|██████████| 58755/58755 [00:33<00:00, 1732.86it/s]\n"
     ]
    },
    {
     "name": "stdout",
     "output_type": "stream",
     "text": [
      "sim_dump/0.30_0.30_0.40_10/z.comp.load.2.dat\n",
      "sim_dump/0.30_0.30_0.40_10.z.comp.dump\n"
     ]
    },
    {
     "name": "stderr",
     "output_type": "stream",
     "text": [
      "100%|██████████| 58755/58755 [00:33<00:00, 1745.43it/s]\n"
     ]
    },
    {
     "name": "stdout",
     "output_type": "stream",
     "text": [
      "sim_dump/0.30_0.30_0.40_10/z.comp.load.3.dat\n",
      "sim_dump/0.30_0.30_0.40_10.z.comp.dump\n"
     ]
    },
    {
     "name": "stderr",
     "output_type": "stream",
     "text": [
      "100%|██████████| 58755/58755 [00:32<00:00, 1804.23it/s]\n"
     ]
    },
    {
     "name": "stdout",
     "output_type": "stream",
     "text": [
      "sim_dump/0.30_0.30_0.40_10/x.comp.load.23.dat\n",
      "sim_dump/0.30_0.30_0.40_10.x.comp.dump\n"
     ]
    },
    {
     "name": "stderr",
     "output_type": "stream",
     "text": [
      "100%|██████████| 58755/58755 [00:33<00:00, 1735.07it/s]\n"
     ]
    },
    {
     "name": "stdout",
     "output_type": "stream",
     "text": [
      "sim_dump/0.50_0.50_0.00_10/x.comp.load.12.dat\n",
      "sim_dump/0.50_0.50_0.00_10.x.comp.dump\n"
     ]
    },
    {
     "name": "stderr",
     "output_type": "stream",
     "text": [
      "100%|██████████| 58381/58381 [00:32<00:00, 1812.23it/s]\n"
     ]
    },
    {
     "name": "stdout",
     "output_type": "stream",
     "text": [
      "sim_dump/0.50_0.50_0.00_10/x.comp.load.6.dat\n",
      "sim_dump/0.50_0.50_0.00_10.x.comp.dump\n"
     ]
    },
    {
     "name": "stderr",
     "output_type": "stream",
     "text": [
      "100%|██████████| 58381/58381 [00:32<00:00, 1812.56it/s]\n"
     ]
    },
    {
     "name": "stdout",
     "output_type": "stream",
     "text": [
      "sim_dump/0.50_0.50_0.00_10/x.comp.load.7.dat\n",
      "sim_dump/0.50_0.50_0.00_10.x.comp.dump\n"
     ]
    },
    {
     "name": "stderr",
     "output_type": "stream",
     "text": [
      "100%|██████████| 58381/58381 [00:32<00:00, 1810.22it/s]\n"
     ]
    },
    {
     "name": "stdout",
     "output_type": "stream",
     "text": [
      "sim_dump/0.50_0.50_0.00_10/x.comp.load.13.dat\n",
      "sim_dump/0.50_0.50_0.00_10.x.comp.dump\n"
     ]
    },
    {
     "name": "stderr",
     "output_type": "stream",
     "text": [
      "100%|██████████| 58381/58381 [00:32<00:00, 1813.55it/s]\n"
     ]
    },
    {
     "name": "stdout",
     "output_type": "stream",
     "text": [
      "sim_dump/0.50_0.50_0.00_10/x.comp.load.11.dat\n",
      "sim_dump/0.50_0.50_0.00_10.x.comp.dump\n"
     ]
    },
    {
     "name": "stderr",
     "output_type": "stream",
     "text": [
      "100%|██████████| 58381/58381 [00:32<00:00, 1788.64it/s]\n"
     ]
    },
    {
     "name": "stdout",
     "output_type": "stream",
     "text": [
      "sim_dump/0.50_0.50_0.00_10/x.comp.load.5.dat\n",
      "sim_dump/0.50_0.50_0.00_10.x.comp.dump\n"
     ]
    },
    {
     "name": "stderr",
     "output_type": "stream",
     "text": [
      "100%|██████████| 58381/58381 [00:32<00:00, 1779.53it/s]\n"
     ]
    },
    {
     "name": "stdout",
     "output_type": "stream",
     "text": [
      "sim_dump/0.50_0.50_0.00_10/x.comp.load.4.dat\n",
      "sim_dump/0.50_0.50_0.00_10.x.comp.dump\n"
     ]
    },
    {
     "name": "stderr",
     "output_type": "stream",
     "text": [
      "100%|██████████| 58381/58381 [00:33<00:00, 1726.34it/s]\n"
     ]
    },
    {
     "name": "stdout",
     "output_type": "stream",
     "text": [
      "sim_dump/0.50_0.50_0.00_10/x.comp.load.10.dat\n",
      "sim_dump/0.50_0.50_0.00_10.x.comp.dump\n"
     ]
    },
    {
     "name": "stderr",
     "output_type": "stream",
     "text": [
      "100%|██████████| 58381/58381 [00:32<00:00, 1802.59it/s]\n"
     ]
    },
    {
     "name": "stdout",
     "output_type": "stream",
     "text": [
      "sim_dump/0.50_0.50_0.00_10/x.comp.load.14.dat\n",
      "sim_dump/0.50_0.50_0.00_10.x.comp.dump\n"
     ]
    },
    {
     "name": "stderr",
     "output_type": "stream",
     "text": [
      "100%|██████████| 58381/58381 [00:32<00:00, 1817.59it/s]\n"
     ]
    },
    {
     "name": "stdout",
     "output_type": "stream",
     "text": [
      "sim_dump/0.50_0.50_0.00_10/z.comp.load.8.dat\n",
      "sim_dump/0.50_0.50_0.00_10.z.comp.dump\n"
     ]
    },
    {
     "name": "stderr",
     "output_type": "stream",
     "text": [
      "100%|██████████| 58381/58381 [00:32<00:00, 1814.11it/s]\n"
     ]
    },
    {
     "name": "stdout",
     "output_type": "stream",
     "text": [
      "sim_dump/0.50_0.50_0.00_10/x.comp.load.1.dat\n",
      "sim_dump/0.50_0.50_0.00_10.x.comp.dump\n"
     ]
    },
    {
     "name": "stderr",
     "output_type": "stream",
     "text": [
      "100%|██████████| 58381/58381 [00:32<00:00, 1815.56it/s]\n"
     ]
    },
    {
     "name": "stdout",
     "output_type": "stream",
     "text": [
      "sim_dump/0.50_0.50_0.00_10/z.comp.load.9.dat\n",
      "sim_dump/0.50_0.50_0.00_10.z.comp.dump\n"
     ]
    },
    {
     "name": "stderr",
     "output_type": "stream",
     "text": [
      "100%|██████████| 58381/58381 [00:32<00:00, 1786.97it/s]\n"
     ]
    },
    {
     "name": "stdout",
     "output_type": "stream",
     "text": [
      "sim_dump/0.50_0.50_0.00_10/x.comp.load.15.dat\n",
      "sim_dump/0.50_0.50_0.00_10.x.comp.dump\n"
     ]
    },
    {
     "name": "stderr",
     "output_type": "stream",
     "text": [
      "100%|██████████| 58381/58381 [00:32<00:00, 1812.04it/s]\n"
     ]
    },
    {
     "name": "stdout",
     "output_type": "stream",
     "text": [
      "sim_dump/0.50_0.50_0.00_10/x.comp.load.17.dat\n",
      "sim_dump/0.50_0.50_0.00_10.x.comp.dump\n"
     ]
    },
    {
     "name": "stderr",
     "output_type": "stream",
     "text": [
      "100%|██████████| 58381/58381 [00:32<00:00, 1810.73it/s]\n"
     ]
    },
    {
     "name": "stdout",
     "output_type": "stream",
     "text": [
      "sim_dump/0.50_0.50_0.00_10/x.comp.load.3.dat\n",
      "sim_dump/0.50_0.50_0.00_10.x.comp.dump\n"
     ]
    },
    {
     "name": "stderr",
     "output_type": "stream",
     "text": [
      "100%|██████████| 58381/58381 [00:32<00:00, 1810.31it/s]\n"
     ]
    },
    {
     "name": "stdout",
     "output_type": "stream",
     "text": [
      "sim_dump/0.50_0.50_0.00_10/x.comp.load.2.dat\n",
      "sim_dump/0.50_0.50_0.00_10.x.comp.dump\n"
     ]
    },
    {
     "name": "stderr",
     "output_type": "stream",
     "text": [
      "100%|██████████| 58381/58381 [00:32<00:00, 1808.40it/s]\n"
     ]
    },
    {
     "name": "stdout",
     "output_type": "stream",
     "text": [
      "sim_dump/0.50_0.50_0.00_10/x.comp.load.16.dat\n",
      "sim_dump/0.50_0.50_0.00_10.x.comp.dump\n"
     ]
    },
    {
     "name": "stderr",
     "output_type": "stream",
     "text": [
      "100%|██████████| 58381/58381 [00:33<00:00, 1731.29it/s]\n"
     ]
    },
    {
     "name": "stdout",
     "output_type": "stream",
     "text": [
      "sim_dump/0.50_0.50_0.00_10/y.comp.load.13.dat\n",
      "sim_dump/0.50_0.50_0.00_10.y.comp.dump\n"
     ]
    },
    {
     "name": "stderr",
     "output_type": "stream",
     "text": [
      "100%|██████████| 58381/58381 [00:32<00:00, 1779.16it/s]\n"
     ]
    },
    {
     "name": "stdout",
     "output_type": "stream",
     "text": [
      "sim_dump/0.50_0.50_0.00_10/z.comp.load.25.dat\n",
      "sim_dump/0.50_0.50_0.00_10.z.comp.dump\n"
     ]
    },
    {
     "name": "stderr",
     "output_type": "stream",
     "text": [
      "100%|██████████| 58381/58381 [00:32<00:00, 1795.84it/s]\n"
     ]
    },
    {
     "name": "stdout",
     "output_type": "stream",
     "text": [
      "sim_dump/0.50_0.50_0.00_10/z.comp.load.19.dat\n",
      "sim_dump/0.50_0.50_0.00_10.z.comp.dump\n"
     ]
    },
    {
     "name": "stderr",
     "output_type": "stream",
     "text": [
      "100%|██████████| 58381/58381 [00:32<00:00, 1814.32it/s]\n"
     ]
    },
    {
     "name": "stdout",
     "output_type": "stream",
     "text": [
      "sim_dump/0.50_0.50_0.00_10/z.comp.load.18.dat\n",
      "sim_dump/0.50_0.50_0.00_10.z.comp.dump\n"
     ]
    },
    {
     "name": "stderr",
     "output_type": "stream",
     "text": [
      "100%|██████████| 58381/58381 [00:32<00:00, 1815.78it/s]\n"
     ]
    },
    {
     "name": "stdout",
     "output_type": "stream",
     "text": [
      "sim_dump/0.50_0.50_0.00_10/z.comp.load.24.dat\n",
      "sim_dump/0.50_0.50_0.00_10.z.comp.dump\n"
     ]
    },
    {
     "name": "stderr",
     "output_type": "stream",
     "text": [
      "100%|██████████| 58381/58381 [00:32<00:00, 1811.40it/s]\n"
     ]
    },
    {
     "name": "stdout",
     "output_type": "stream",
     "text": [
      "sim_dump/0.50_0.50_0.00_10/y.comp.load.12.dat\n",
      "sim_dump/0.50_0.50_0.00_10.y.comp.dump\n"
     ]
    },
    {
     "name": "stderr",
     "output_type": "stream",
     "text": [
      "100%|██████████| 58381/58381 [00:32<00:00, 1807.97it/s]\n"
     ]
    },
    {
     "name": "stdout",
     "output_type": "stream",
     "text": [
      "sim_dump/0.50_0.50_0.00_10/y.comp.load.1.dat\n",
      "sim_dump/0.50_0.50_0.00_10.y.comp.dump\n"
     ]
    },
    {
     "name": "stderr",
     "output_type": "stream",
     "text": [
      "100%|██████████| 58381/58381 [00:32<00:00, 1811.26it/s]\n"
     ]
    },
    {
     "name": "stdout",
     "output_type": "stream",
     "text": [
      "sim_dump/0.50_0.50_0.00_10/y.comp.load.3.dat\n",
      "sim_dump/0.50_0.50_0.00_10.y.comp.dump\n"
     ]
    },
    {
     "name": "stderr",
     "output_type": "stream",
     "text": [
      "100%|██████████| 58381/58381 [00:32<00:00, 1808.82it/s]\n"
     ]
    },
    {
     "name": "stdout",
     "output_type": "stream",
     "text": [
      "sim_dump/0.50_0.50_0.00_10/y.comp.load.10.dat\n",
      "sim_dump/0.50_0.50_0.00_10.y.comp.dump\n"
     ]
    },
    {
     "name": "stderr",
     "output_type": "stream",
     "text": [
      "100%|██████████| 58381/58381 [00:33<00:00, 1743.92it/s]\n"
     ]
    },
    {
     "name": "stdout",
     "output_type": "stream",
     "text": [
      "sim_dump/0.50_0.50_0.00_10/y.comp.load.11.dat\n",
      "sim_dump/0.50_0.50_0.00_10.y.comp.dump\n"
     ]
    },
    {
     "name": "stderr",
     "output_type": "stream",
     "text": [
      "100%|██████████| 58381/58381 [00:32<00:00, 1794.58it/s]\n"
     ]
    },
    {
     "name": "stdout",
     "output_type": "stream",
     "text": [
      "sim_dump/0.50_0.50_0.00_10/y.comp.load.2.dat\n",
      "sim_dump/0.50_0.50_0.00_10.y.comp.dump\n"
     ]
    },
    {
     "name": "stderr",
     "output_type": "stream",
     "text": [
      "100%|██████████| 58381/58381 [00:32<00:00, 1810.26it/s]\n"
     ]
    },
    {
     "name": "stdout",
     "output_type": "stream",
     "text": [
      "sim_dump/0.50_0.50_0.00_10/y.comp.load.6.dat\n",
      "sim_dump/0.50_0.50_0.00_10.y.comp.dump\n"
     ]
    },
    {
     "name": "stderr",
     "output_type": "stream",
     "text": [
      "100%|██████████| 58381/58381 [00:32<00:00, 1814.70it/s]\n"
     ]
    },
    {
     "name": "stdout",
     "output_type": "stream",
     "text": [
      "sim_dump/0.50_0.50_0.00_10/y.comp.load.15.dat\n",
      "sim_dump/0.50_0.50_0.00_10.y.comp.dump\n"
     ]
    },
    {
     "name": "stderr",
     "output_type": "stream",
     "text": [
      "100%|██████████| 58381/58381 [00:32<00:00, 1813.22it/s]\n"
     ]
    },
    {
     "name": "stdout",
     "output_type": "stream",
     "text": [
      "sim_dump/0.50_0.50_0.00_10/z.comp.load.23.dat\n",
      "sim_dump/0.50_0.50_0.00_10.z.comp.dump\n"
     ]
    },
    {
     "name": "stderr",
     "output_type": "stream",
     "text": [
      "100%|██████████| 58381/58381 [00:33<00:00, 1753.80it/s]\n"
     ]
    },
    {
     "name": "stdout",
     "output_type": "stream",
     "text": [
      "sim_dump/0.50_0.50_0.00_10/z.comp.load.22.dat\n",
      "sim_dump/0.50_0.50_0.00_10.z.comp.dump\n"
     ]
    },
    {
     "name": "stderr",
     "output_type": "stream",
     "text": [
      "100%|██████████| 58381/58381 [00:33<00:00, 1744.68it/s]\n"
     ]
    },
    {
     "name": "stdout",
     "output_type": "stream",
     "text": [
      "sim_dump/0.50_0.50_0.00_10/y.comp.load.14.dat\n",
      "sim_dump/0.50_0.50_0.00_10.y.comp.dump\n"
     ]
    },
    {
     "name": "stderr",
     "output_type": "stream",
     "text": [
      "100%|██████████| 58381/58381 [00:32<00:00, 1815.10it/s]\n"
     ]
    },
    {
     "name": "stdout",
     "output_type": "stream",
     "text": [
      "sim_dump/0.50_0.50_0.00_10/y.comp.load.7.dat\n",
      "sim_dump/0.50_0.50_0.00_10.y.comp.dump\n"
     ]
    },
    {
     "name": "stderr",
     "output_type": "stream",
     "text": [
      "100%|██████████| 58381/58381 [00:32<00:00, 1804.89it/s]\n"
     ]
    },
    {
     "name": "stdout",
     "output_type": "stream",
     "text": [
      "sim_dump/0.50_0.50_0.00_10/y.comp.load.5.dat\n",
      "sim_dump/0.50_0.50_0.00_10.y.comp.dump\n"
     ]
    },
    {
     "name": "stderr",
     "output_type": "stream",
     "text": [
      "100%|██████████| 58381/58381 [00:32<00:00, 1814.69it/s]\n"
     ]
    },
    {
     "name": "stdout",
     "output_type": "stream",
     "text": [
      "sim_dump/0.50_0.50_0.00_10/y.comp.load.16.dat\n",
      "sim_dump/0.50_0.50_0.00_10.y.comp.dump\n"
     ]
    },
    {
     "name": "stderr",
     "output_type": "stream",
     "text": [
      "100%|██████████| 58381/58381 [00:32<00:00, 1775.08it/s]\n"
     ]
    },
    {
     "name": "stdout",
     "output_type": "stream",
     "text": [
      "sim_dump/0.50_0.50_0.00_10/z.comp.load.20.dat\n",
      "sim_dump/0.50_0.50_0.00_10.z.comp.dump\n"
     ]
    },
    {
     "name": "stderr",
     "output_type": "stream",
     "text": [
      "100%|██████████| 58381/58381 [00:33<00:00, 1744.26it/s]\n"
     ]
    },
    {
     "name": "stdout",
     "output_type": "stream",
     "text": [
      "sim_dump/0.50_0.50_0.00_10/z.comp.load.21.dat\n",
      "sim_dump/0.50_0.50_0.00_10.z.comp.dump\n"
     ]
    },
    {
     "name": "stderr",
     "output_type": "stream",
     "text": [
      "100%|██████████| 58381/58381 [00:32<00:00, 1804.32it/s]\n"
     ]
    },
    {
     "name": "stdout",
     "output_type": "stream",
     "text": [
      "sim_dump/0.50_0.50_0.00_10/y.comp.load.17.dat\n",
      "sim_dump/0.50_0.50_0.00_10.y.comp.dump\n"
     ]
    },
    {
     "name": "stderr",
     "output_type": "stream",
     "text": [
      "100%|██████████| 58381/58381 [00:32<00:00, 1805.18it/s]\n"
     ]
    },
    {
     "name": "stdout",
     "output_type": "stream",
     "text": [
      "sim_dump/0.50_0.50_0.00_10/y.comp.load.4.dat\n",
      "sim_dump/0.50_0.50_0.00_10.y.comp.dump\n"
     ]
    },
    {
     "name": "stderr",
     "output_type": "stream",
     "text": [
      "100%|██████████| 58381/58381 [00:32<00:00, 1775.02it/s]\n"
     ]
    },
    {
     "name": "stdout",
     "output_type": "stream",
     "text": [
      "sim_dump/0.50_0.50_0.00_10/y.comp.load.9.dat\n",
      "sim_dump/0.50_0.50_0.00_10.y.comp.dump\n"
     ]
    },
    {
     "name": "stderr",
     "output_type": "stream",
     "text": [
      "100%|██████████| 58381/58381 [00:33<00:00, 1766.30it/s]\n"
     ]
    },
    {
     "name": "stdout",
     "output_type": "stream",
     "text": [
      "sim_dump/0.50_0.50_0.00_10/z.comp.load.10.dat\n",
      "sim_dump/0.50_0.50_0.00_10.z.comp.dump\n"
     ]
    },
    {
     "name": "stderr",
     "output_type": "stream",
     "text": [
      "100%|██████████| 58381/58381 [00:33<00:00, 1736.08it/s]\n"
     ]
    },
    {
     "name": "stdout",
     "output_type": "stream",
     "text": [
      "sim_dump/0.50_0.50_0.00_10/z.comp.load.11.dat\n",
      "sim_dump/0.50_0.50_0.00_10.z.comp.dump\n"
     ]
    },
    {
     "name": "stderr",
     "output_type": "stream",
     "text": [
      "100%|██████████| 58381/58381 [00:32<00:00, 1783.87it/s]\n"
     ]
    },
    {
     "name": "stdout",
     "output_type": "stream",
     "text": [
      "sim_dump/0.50_0.50_0.00_10/y.comp.load.8.dat\n",
      "sim_dump/0.50_0.50_0.00_10.y.comp.dump\n"
     ]
    },
    {
     "name": "stderr",
     "output_type": "stream",
     "text": [
      "100%|██████████| 58381/58381 [00:32<00:00, 1811.88it/s]\n"
     ]
    },
    {
     "name": "stdout",
     "output_type": "stream",
     "text": [
      "sim_dump/0.50_0.50_0.00_10/y.comp.load.25.dat\n",
      "sim_dump/0.50_0.50_0.00_10.y.comp.dump\n"
     ]
    },
    {
     "name": "stderr",
     "output_type": "stream",
     "text": [
      "100%|██████████| 58381/58381 [00:32<00:00, 1808.46it/s]\n"
     ]
    },
    {
     "name": "stdout",
     "output_type": "stream",
     "text": [
      "sim_dump/0.50_0.50_0.00_10/y.comp.load.19.dat\n",
      "sim_dump/0.50_0.50_0.00_10.y.comp.dump\n"
     ]
    },
    {
     "name": "stderr",
     "output_type": "stream",
     "text": [
      "100%|██████████| 58381/58381 [00:32<00:00, 1769.52it/s]\n"
     ]
    },
    {
     "name": "stdout",
     "output_type": "stream",
     "text": [
      "sim_dump/0.50_0.50_0.00_10/z.comp.load.13.dat\n",
      "sim_dump/0.50_0.50_0.00_10.z.comp.dump\n"
     ]
    },
    {
     "name": "stderr",
     "output_type": "stream",
     "text": [
      "100%|██████████| 58381/58381 [00:33<00:00, 1742.14it/s]\n"
     ]
    },
    {
     "name": "stdout",
     "output_type": "stream",
     "text": [
      "sim_dump/0.50_0.50_0.00_10/z.comp.load.12.dat\n",
      "sim_dump/0.50_0.50_0.00_10.z.comp.dump\n"
     ]
    },
    {
     "name": "stderr",
     "output_type": "stream",
     "text": [
      "100%|██████████| 58381/58381 [00:32<00:00, 1813.66it/s]\n"
     ]
    },
    {
     "name": "stdout",
     "output_type": "stream",
     "text": [
      "sim_dump/0.50_0.50_0.00_10/y.comp.load.18.dat\n",
      "sim_dump/0.50_0.50_0.00_10.y.comp.dump\n"
     ]
    },
    {
     "name": "stderr",
     "output_type": "stream",
     "text": [
      "100%|██████████| 58381/58381 [00:32<00:00, 1810.84it/s]\n"
     ]
    },
    {
     "name": "stdout",
     "output_type": "stream",
     "text": [
      "sim_dump/0.50_0.50_0.00_10/y.comp.load.24.dat\n",
      "sim_dump/0.50_0.50_0.00_10.y.comp.dump\n"
     ]
    },
    {
     "name": "stderr",
     "output_type": "stream",
     "text": [
      "100%|██████████| 58381/58381 [00:32<00:00, 1811.70it/s]\n"
     ]
    },
    {
     "name": "stdout",
     "output_type": "stream",
     "text": [
      "sim_dump/0.50_0.50_0.00_10/y.comp.load.20.dat\n",
      "sim_dump/0.50_0.50_0.00_10.y.comp.dump\n"
     ]
    },
    {
     "name": "stderr",
     "output_type": "stream",
     "text": [
      "100%|██████████| 58381/58381 [00:32<00:00, 1815.05it/s]\n"
     ]
    },
    {
     "name": "stdout",
     "output_type": "stream",
     "text": [
      "sim_dump/0.50_0.50_0.00_10/z.comp.load.16.dat\n",
      "sim_dump/0.50_0.50_0.00_10.z.comp.dump\n"
     ]
    },
    {
     "name": "stderr",
     "output_type": "stream",
     "text": [
      "100%|██████████| 58381/58381 [00:32<00:00, 1812.20it/s]\n"
     ]
    },
    {
     "name": "stdout",
     "output_type": "stream",
     "text": [
      "sim_dump/0.50_0.50_0.00_10/z.comp.load.17.dat\n",
      "sim_dump/0.50_0.50_0.00_10.z.comp.dump\n"
     ]
    },
    {
     "name": "stderr",
     "output_type": "stream",
     "text": [
      "100%|██████████| 58381/58381 [00:32<00:00, 1808.73it/s]\n"
     ]
    },
    {
     "name": "stdout",
     "output_type": "stream",
     "text": [
      "sim_dump/0.50_0.50_0.00_10/y.comp.load.21.dat\n",
      "sim_dump/0.50_0.50_0.00_10.y.comp.dump\n"
     ]
    },
    {
     "name": "stderr",
     "output_type": "stream",
     "text": [
      "100%|██████████| 58381/58381 [00:32<00:00, 1812.68it/s]\n"
     ]
    },
    {
     "name": "stdout",
     "output_type": "stream",
     "text": [
      "sim_dump/0.50_0.50_0.00_10/y.comp.load.23.dat\n",
      "sim_dump/0.50_0.50_0.00_10.y.comp.dump\n"
     ]
    },
    {
     "name": "stderr",
     "output_type": "stream",
     "text": [
      "100%|██████████| 58381/58381 [00:32<00:00, 1808.72it/s]\n"
     ]
    },
    {
     "name": "stdout",
     "output_type": "stream",
     "text": [
      "sim_dump/0.50_0.50_0.00_10/z.comp.load.15.dat\n",
      "sim_dump/0.50_0.50_0.00_10.z.comp.dump\n"
     ]
    },
    {
     "name": "stderr",
     "output_type": "stream",
     "text": [
      "100%|██████████| 58381/58381 [00:35<00:00, 1653.83it/s]\n"
     ]
    },
    {
     "name": "stdout",
     "output_type": "stream",
     "text": [
      "sim_dump/0.50_0.50_0.00_10/z.comp.load.14.dat\n",
      "sim_dump/0.50_0.50_0.00_10.z.comp.dump\n"
     ]
    },
    {
     "name": "stderr",
     "output_type": "stream",
     "text": [
      "100%|██████████| 58381/58381 [00:34<00:00, 1668.64it/s]\n"
     ]
    },
    {
     "name": "stdout",
     "output_type": "stream",
     "text": [
      "sim_dump/0.50_0.50_0.00_10/y.comp.load.22.dat\n",
      "sim_dump/0.50_0.50_0.00_10.y.comp.dump\n"
     ]
    },
    {
     "name": "stderr",
     "output_type": "stream",
     "text": [
      "100%|██████████| 58381/58381 [00:34<00:00, 1716.47it/s]\n"
     ]
    },
    {
     "name": "stdout",
     "output_type": "stream",
     "text": [
      "sim_dump/0.50_0.50_0.00_10/z.comp.load.7.dat\n",
      "sim_dump/0.50_0.50_0.00_10.z.comp.dump\n"
     ]
    },
    {
     "name": "stderr",
     "output_type": "stream",
     "text": [
      "100%|██████████| 58381/58381 [00:32<00:00, 1809.32it/s]\n"
     ]
    },
    {
     "name": "stdout",
     "output_type": "stream",
     "text": [
      "sim_dump/0.50_0.50_0.00_10/z.comp.load.6.dat\n",
      "sim_dump/0.50_0.50_0.00_10.z.comp.dump\n"
     ]
    },
    {
     "name": "stderr",
     "output_type": "stream",
     "text": [
      "100%|██████████| 58381/58381 [00:32<00:00, 1803.76it/s]\n"
     ]
    },
    {
     "name": "stdout",
     "output_type": "stream",
     "text": [
      "sim_dump/0.50_0.50_0.00_10/x.comp.load.24.dat\n",
      "sim_dump/0.50_0.50_0.00_10.x.comp.dump\n"
     ]
    },
    {
     "name": "stderr",
     "output_type": "stream",
     "text": [
      "100%|██████████| 58381/58381 [00:32<00:00, 1804.38it/s]\n"
     ]
    },
    {
     "name": "stdout",
     "output_type": "stream",
     "text": [
      "sim_dump/0.50_0.50_0.00_10/x.comp.load.18.dat\n",
      "sim_dump/0.50_0.50_0.00_10.x.comp.dump\n"
     ]
    },
    {
     "name": "stderr",
     "output_type": "stream",
     "text": [
      "100%|██████████| 58381/58381 [00:32<00:00, 1788.98it/s]\n"
     ]
    },
    {
     "name": "stdout",
     "output_type": "stream",
     "text": [
      "sim_dump/0.50_0.50_0.00_10/z.comp.load.4.dat\n",
      "sim_dump/0.50_0.50_0.00_10.z.comp.dump\n"
     ]
    },
    {
     "name": "stderr",
     "output_type": "stream",
     "text": [
      "100%|██████████| 58381/58381 [00:34<00:00, 1706.76it/s]\n"
     ]
    },
    {
     "name": "stdout",
     "output_type": "stream",
     "text": [
      "sim_dump/0.50_0.50_0.00_10/z.comp.load.5.dat\n",
      "sim_dump/0.50_0.50_0.00_10.z.comp.dump\n"
     ]
    },
    {
     "name": "stderr",
     "output_type": "stream",
     "text": [
      "100%|██████████| 58381/58381 [00:34<00:00, 1678.23it/s]\n"
     ]
    },
    {
     "name": "stdout",
     "output_type": "stream",
     "text": [
      "sim_dump/0.50_0.50_0.00_10/x.comp.load.19.dat\n",
      "sim_dump/0.50_0.50_0.00_10.x.comp.dump\n"
     ]
    },
    {
     "name": "stderr",
     "output_type": "stream",
     "text": [
      "100%|██████████| 58381/58381 [00:32<00:00, 1797.87it/s]\n"
     ]
    },
    {
     "name": "stdout",
     "output_type": "stream",
     "text": [
      "sim_dump/0.50_0.50_0.00_10/x.comp.load.25.dat\n",
      "sim_dump/0.50_0.50_0.00_10.x.comp.dump\n"
     ]
    },
    {
     "name": "stderr",
     "output_type": "stream",
     "text": [
      "100%|██████████| 58381/58381 [00:32<00:00, 1788.13it/s]\n"
     ]
    },
    {
     "name": "stdout",
     "output_type": "stream",
     "text": [
      "sim_dump/0.50_0.50_0.00_10/x.comp.load.21.dat\n",
      "sim_dump/0.50_0.50_0.00_10.x.comp.dump\n"
     ]
    },
    {
     "name": "stderr",
     "output_type": "stream",
     "text": [
      "100%|██████████| 58381/58381 [00:33<00:00, 1722.84it/s]\n"
     ]
    },
    {
     "name": "stdout",
     "output_type": "stream",
     "text": [
      "sim_dump/0.50_0.50_0.00_10/z.comp.load.1.dat\n",
      "sim_dump/0.50_0.50_0.00_10.z.comp.dump\n"
     ]
    },
    {
     "name": "stderr",
     "output_type": "stream",
     "text": [
      "100%|██████████| 58381/58381 [00:32<00:00, 1811.63it/s]\n"
     ]
    },
    {
     "name": "stdout",
     "output_type": "stream",
     "text": [
      "sim_dump/0.50_0.50_0.00_10/x.comp.load.9.dat\n",
      "sim_dump/0.50_0.50_0.00_10.x.comp.dump\n"
     ]
    },
    {
     "name": "stderr",
     "output_type": "stream",
     "text": [
      "100%|██████████| 58381/58381 [00:32<00:00, 1813.22it/s]\n"
     ]
    },
    {
     "name": "stdout",
     "output_type": "stream",
     "text": [
      "sim_dump/0.50_0.50_0.00_10/x.comp.load.8.dat\n",
      "sim_dump/0.50_0.50_0.00_10.x.comp.dump\n"
     ]
    },
    {
     "name": "stderr",
     "output_type": "stream",
     "text": [
      "100%|██████████| 58381/58381 [00:32<00:00, 1811.40it/s]\n"
     ]
    },
    {
     "name": "stdout",
     "output_type": "stream",
     "text": [
      "sim_dump/0.50_0.50_0.00_10/x.comp.load.20.dat\n",
      "sim_dump/0.50_0.50_0.00_10.x.comp.dump\n"
     ]
    },
    {
     "name": "stderr",
     "output_type": "stream",
     "text": [
      "100%|██████████| 58381/58381 [00:34<00:00, 1700.25it/s]\n"
     ]
    },
    {
     "name": "stdout",
     "output_type": "stream",
     "text": [
      "sim_dump/0.50_0.50_0.00_10/x.comp.load.22.dat\n",
      "sim_dump/0.50_0.50_0.00_10.x.comp.dump\n"
     ]
    },
    {
     "name": "stderr",
     "output_type": "stream",
     "text": [
      "100%|██████████| 58381/58381 [00:33<00:00, 1722.20it/s]\n"
     ]
    },
    {
     "name": "stdout",
     "output_type": "stream",
     "text": [
      "sim_dump/0.50_0.50_0.00_10/z.comp.load.2.dat\n",
      "sim_dump/0.50_0.50_0.00_10.z.comp.dump\n"
     ]
    },
    {
     "name": "stderr",
     "output_type": "stream",
     "text": [
      "100%|██████████| 58381/58381 [00:32<00:00, 1812.03it/s]\n"
     ]
    },
    {
     "name": "stdout",
     "output_type": "stream",
     "text": [
      "sim_dump/0.50_0.50_0.00_10/z.comp.load.3.dat\n",
      "sim_dump/0.50_0.50_0.00_10.z.comp.dump\n"
     ]
    },
    {
     "name": "stderr",
     "output_type": "stream",
     "text": [
      "100%|██████████| 58381/58381 [00:33<00:00, 1719.51it/s]\n"
     ]
    },
    {
     "name": "stdout",
     "output_type": "stream",
     "text": [
      "sim_dump/0.50_0.50_0.00_10/x.comp.load.23.dat\n",
      "sim_dump/0.50_0.50_0.00_10.x.comp.dump\n"
     ]
    },
    {
     "name": "stderr",
     "output_type": "stream",
     "text": [
      "100%|██████████| 58381/58381 [00:32<00:00, 1774.60it/s]\n"
     ]
    }
   ],
   "source": [
    "# dat_file = 'sim_dump/0.30_0.30_0.40_10/x.comp.load.1.dat'\n",
    "# dump_file = 'sim_dump/0.30_0.30_0.40_10.x.comp.dump'\n",
    "import os\n",
    "for root, dirs, files in os.walk('sim_dump'):\n",
    "    for  f in files:\n",
    "        if f.endswith('.dat'):\n",
    "            dat_file = os.path.join(root,f)\n",
    "            ori = f[0]\n",
    "            dump_file = dat_file.split(f'/{ori}.')[0]+ f'.{ori}.comp.dump'\n",
    "            print(dat_file)\n",
    "            print(dump_file)\n",
    "            compile_dat_dump(dat_file,dump_file)"
   ]
  },
  {
   "cell_type": "code",
   "execution_count": 3,
   "metadata": {},
   "outputs": [
    {
     "name": "stderr",
     "output_type": "stream",
     "text": [
      "100%|██████████| 58230/58230 [00:32<00:00, 1788.46it/s]\n"
     ]
    }
   ],
   "source": [
    "# dat_file = 'sim_dump/0.30_0.30_0.40_10/x.comp.load.1.dat'\n",
    "# dump_file = 'sim_dump/0.30_0.30_0.40_10.x.comp.dump'\n",
    "dat_file = 'sim_dump/0.50_0.00_0.00_10/y.comp.load.14.dat'\n",
    "dump_file = 'sim_dump/0.50_0.00_0.00_10.y.comp.dump'\n",
    "compile_dat_dump(dat_file,dump_file)"
   ]
  }
 ],
 "metadata": {
  "kernelspec": {
   "display_name": "py311",
   "language": "python",
   "name": "python3"
  },
  "language_info": {
   "codemirror_mode": {
    "name": "ipython",
    "version": 3
   },
   "file_extension": ".py",
   "mimetype": "text/x-python",
   "name": "python",
   "nbconvert_exporter": "python",
   "pygments_lexer": "ipython3",
   "version": "3.11.5"
  }
 },
 "nbformat": 4,
 "nbformat_minor": 2
}
